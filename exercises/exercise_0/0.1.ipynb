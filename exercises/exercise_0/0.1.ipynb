{
 "cells": [
  {
   "cell_type": "markdown",
   "id": "ba861ce4",
   "metadata": {},
   "source": [
    "# Exercise 0.1 Recreation of graphs"
   ]
  },
  {
   "cell_type": "code",
   "execution_count": 16,
   "id": "1ad65f7d",
   "metadata": {},
   "outputs": [
    {
     "data": {
      "text/html": [
       "<div>\n",
       "<style scoped>\n",
       "    .dataframe tbody tr th:only-of-type {\n",
       "        vertical-align: middle;\n",
       "    }\n",
       "\n",
       "    .dataframe tbody tr th {\n",
       "        vertical-align: top;\n",
       "    }\n",
       "\n",
       "    .dataframe thead th {\n",
       "        text-align: right;\n",
       "    }\n",
       "</style>\n",
       "<table border=\"1\" class=\"dataframe\">\n",
       "  <thead>\n",
       "    <tr style=\"text-align: right;\">\n",
       "      <th></th>\n",
       "      <th>Rank</th>\n",
       "      <th>Name</th>\n",
       "      <th>Thumbnail URL</th>\n",
       "      <th>Store Link</th>\n",
       "      <th>Price</th>\n",
       "      <th>Current Players</th>\n",
       "      <th>Peak Today</th>\n",
       "      <th>Genre Tags</th>\n",
       "    </tr>\n",
       "  </thead>\n",
       "  <tbody>\n",
       "    <tr>\n",
       "      <th>0</th>\n",
       "      <td>1</td>\n",
       "      <td>Counter-Strike 2</td>\n",
       "      <td>https://shared.cloudflare.steamstatic.com//sto...</td>\n",
       "      <td>https://store.steampowered.com/app/730/Counter...</td>\n",
       "      <td>Free To Play</td>\n",
       "      <td>1,485,535</td>\n",
       "      <td>1,489,929</td>\n",
       "      <td>FPS, Shooter, Multiplayer, Competitive, Action...</td>\n",
       "    </tr>\n",
       "    <tr>\n",
       "      <th>1</th>\n",
       "      <td>2</td>\n",
       "      <td>PUBG: BATTLEGROUNDS</td>\n",
       "      <td>https://shared.cloudflare.steamstatic.com//sto...</td>\n",
       "      <td>https://store.steampowered.com/app/578080/PUBG...</td>\n",
       "      <td>Free To Play</td>\n",
       "      <td>765,150</td>\n",
       "      <td>765,150</td>\n",
       "      <td>Survival, Shooter, Battle Royale, Multiplayer,...</td>\n",
       "    </tr>\n",
       "    <tr>\n",
       "      <th>2</th>\n",
       "      <td>3</td>\n",
       "      <td>Dota 2</td>\n",
       "      <td>https://shared.cloudflare.steamstatic.com//sto...</td>\n",
       "      <td>https://store.steampowered.com/app/570/Dota_2?...</td>\n",
       "      <td>Free To Play</td>\n",
       "      <td>698,757</td>\n",
       "      <td>715,295</td>\n",
       "      <td>Free to Play, MOBA, Multiplayer, Strategy, eSp...</td>\n",
       "    </tr>\n",
       "    <tr>\n",
       "      <th>3</th>\n",
       "      <td>4</td>\n",
       "      <td>Marvel Rivals</td>\n",
       "      <td>https://shared.cloudflare.steamstatic.com//sto...</td>\n",
       "      <td>https://store.steampowered.com/app/2767030/Mar...</td>\n",
       "      <td>Free To Play</td>\n",
       "      <td>312,427</td>\n",
       "      <td>565,653</td>\n",
       "      <td>Free to Play, Multiplayer, Hero Shooter, Third...</td>\n",
       "    </tr>\n",
       "    <tr>\n",
       "      <th>4</th>\n",
       "      <td>5</td>\n",
       "      <td>Path of Exile 2</td>\n",
       "      <td>https://shared.cloudflare.steamstatic.com//sto...</td>\n",
       "      <td>https://store.steampowered.com/app/2694490/Pat...</td>\n",
       "      <td>£23.93</td>\n",
       "      <td>258,475</td>\n",
       "      <td>288,757</td>\n",
       "      <td>Action RPG, Hack and Slash, RPG, Action, Souls...</td>\n",
       "    </tr>\n",
       "  </tbody>\n",
       "</table>\n",
       "</div>"
      ],
      "text/plain": [
       "   Rank                 Name  \\\n",
       "0     1     Counter-Strike 2   \n",
       "1     2  PUBG: BATTLEGROUNDS   \n",
       "2     3               Dota 2   \n",
       "3     4        Marvel Rivals   \n",
       "4     5      Path of Exile 2   \n",
       "\n",
       "                                       Thumbnail URL  \\\n",
       "0  https://shared.cloudflare.steamstatic.com//sto...   \n",
       "1  https://shared.cloudflare.steamstatic.com//sto...   \n",
       "2  https://shared.cloudflare.steamstatic.com//sto...   \n",
       "3  https://shared.cloudflare.steamstatic.com//sto...   \n",
       "4  https://shared.cloudflare.steamstatic.com//sto...   \n",
       "\n",
       "                                          Store Link         Price  \\\n",
       "0  https://store.steampowered.com/app/730/Counter...  Free To Play   \n",
       "1  https://store.steampowered.com/app/578080/PUBG...  Free To Play   \n",
       "2  https://store.steampowered.com/app/570/Dota_2?...  Free To Play   \n",
       "3  https://store.steampowered.com/app/2767030/Mar...  Free To Play   \n",
       "4  https://store.steampowered.com/app/2694490/Pat...        £23.93   \n",
       "\n",
       "  Current Players Peak Today  \\\n",
       "0       1,485,535  1,489,929   \n",
       "1         765,150    765,150   \n",
       "2         698,757    715,295   \n",
       "3         312,427    565,653   \n",
       "4         258,475    288,757   \n",
       "\n",
       "                                          Genre Tags  \n",
       "0  FPS, Shooter, Multiplayer, Competitive, Action...  \n",
       "1  Survival, Shooter, Battle Royale, Multiplayer,...  \n",
       "2  Free to Play, MOBA, Multiplayer, Strategy, eSp...  \n",
       "3  Free to Play, Multiplayer, Hero Shooter, Third...  \n",
       "4  Action RPG, Hack and Slash, RPG, Action, Souls...  "
      ]
     },
     "execution_count": 16,
     "metadata": {},
     "output_type": "execute_result"
    }
   ],
   "source": [
    "import pandas as pd\n",
    "\n",
    "df = pd.read_csv('data/Steam Top 100 Played Games - List.csv')\n",
    "df.head()"
   ]
  },
  {
   "cell_type": "code",
   "execution_count": 7,
   "id": "30ddd94f",
   "metadata": {},
   "outputs": [
    {
     "name": "stdout",
     "output_type": "stream",
     "text": [
      "<class 'pandas.core.frame.DataFrame'>\n",
      "RangeIndex: 100 entries, 0 to 99\n",
      "Data columns (total 8 columns):\n",
      " #   Column           Non-Null Count  Dtype \n",
      "---  ------           --------------  ----- \n",
      " 0   Rank             100 non-null    int64 \n",
      " 1   Name             100 non-null    object\n",
      " 2   Thumbnail URL    100 non-null    object\n",
      " 3   Store Link       100 non-null    object\n",
      " 4   Price            100 non-null    object\n",
      " 5   Current Players  100 non-null    object\n",
      " 6   Peak Today       100 non-null    object\n",
      " 7   Genre Tags       100 non-null    object\n",
      "dtypes: int64(1), object(7)\n",
      "memory usage: 6.4+ KB\n"
     ]
    }
   ],
   "source": [
    "df.info()"
   ]
  },
  {
   "cell_type": "code",
   "execution_count": 17,
   "id": "d334ebb5",
   "metadata": {},
   "outputs": [
    {
     "data": {
      "text/html": [
       "<div>\n",
       "<style scoped>\n",
       "    .dataframe tbody tr th:only-of-type {\n",
       "        vertical-align: middle;\n",
       "    }\n",
       "\n",
       "    .dataframe tbody tr th {\n",
       "        vertical-align: top;\n",
       "    }\n",
       "\n",
       "    .dataframe thead th {\n",
       "        text-align: right;\n",
       "    }\n",
       "</style>\n",
       "<table border=\"1\" class=\"dataframe\">\n",
       "  <thead>\n",
       "    <tr style=\"text-align: right;\">\n",
       "      <th></th>\n",
       "      <th>Name</th>\n",
       "      <th>Current Players</th>\n",
       "      <th>Price</th>\n",
       "    </tr>\n",
       "  </thead>\n",
       "  <tbody>\n",
       "    <tr>\n",
       "      <th>0</th>\n",
       "      <td>Counter-Strike 2</td>\n",
       "      <td>1,485,535</td>\n",
       "      <td>Free To Play</td>\n",
       "    </tr>\n",
       "    <tr>\n",
       "      <th>1</th>\n",
       "      <td>PUBG: BATTLEGROUNDS</td>\n",
       "      <td>765,150</td>\n",
       "      <td>Free To Play</td>\n",
       "    </tr>\n",
       "    <tr>\n",
       "      <th>2</th>\n",
       "      <td>Dota 2</td>\n",
       "      <td>698,757</td>\n",
       "      <td>Free To Play</td>\n",
       "    </tr>\n",
       "    <tr>\n",
       "      <th>3</th>\n",
       "      <td>Marvel Rivals</td>\n",
       "      <td>312,427</td>\n",
       "      <td>Free To Play</td>\n",
       "    </tr>\n",
       "    <tr>\n",
       "      <th>4</th>\n",
       "      <td>Path of Exile 2</td>\n",
       "      <td>258,475</td>\n",
       "      <td>£23.93</td>\n",
       "    </tr>\n",
       "    <tr>\n",
       "      <th>...</th>\n",
       "      <td>...</td>\n",
       "      <td>...</td>\n",
       "      <td>...</td>\n",
       "    </tr>\n",
       "    <tr>\n",
       "      <th>95</th>\n",
       "      <td>Sid Meier's Civilization® V</td>\n",
       "      <td>17,916</td>\n",
       "      <td>£19.99</td>\n",
       "    </tr>\n",
       "    <tr>\n",
       "      <th>96</th>\n",
       "      <td>Counter-Strike</td>\n",
       "      <td>17,900</td>\n",
       "      <td>£7.19</td>\n",
       "    </tr>\n",
       "    <tr>\n",
       "      <th>97</th>\n",
       "      <td>Cities: Skylines</td>\n",
       "      <td>17,866</td>\n",
       "      <td>£24.99</td>\n",
       "    </tr>\n",
       "    <tr>\n",
       "      <th>98</th>\n",
       "      <td>Fallout 4</td>\n",
       "      <td>17,009</td>\n",
       "      <td>£15.99</td>\n",
       "    </tr>\n",
       "    <tr>\n",
       "      <th>99</th>\n",
       "      <td>Unturned</td>\n",
       "      <td>16,976</td>\n",
       "      <td>Free To Play</td>\n",
       "    </tr>\n",
       "  </tbody>\n",
       "</table>\n",
       "<p>100 rows × 3 columns</p>\n",
       "</div>"
      ],
      "text/plain": [
       "                           Name Current Players         Price\n",
       "0              Counter-Strike 2       1,485,535  Free To Play\n",
       "1           PUBG: BATTLEGROUNDS         765,150  Free To Play\n",
       "2                        Dota 2         698,757  Free To Play\n",
       "3                 Marvel Rivals         312,427  Free To Play\n",
       "4               Path of Exile 2         258,475        £23.93\n",
       "..                          ...             ...           ...\n",
       "95  Sid Meier's Civilization® V          17,916        £19.99\n",
       "96               Counter-Strike          17,900         £7.19\n",
       "97             Cities: Skylines          17,866        £24.99\n",
       "98                    Fallout 4          17,009        £15.99\n",
       "99                     Unturned          16,976  Free To Play\n",
       "\n",
       "[100 rows x 3 columns]"
      ]
     },
     "execution_count": 17,
     "metadata": {},
     "output_type": "execute_result"
    }
   ],
   "source": [
    "df= df[['Name', 'Current Players', 'Price']]\n",
    "df"
   ]
  },
  {
   "cell_type": "code",
   "execution_count": 73,
   "id": "411356a9",
   "metadata": {},
   "outputs": [
    {
     "data": {
      "text/plain": [
       "0     1485535\n",
       "1      765150\n",
       "2      698757\n",
       "3      312427\n",
       "4      258475\n",
       "       ...   \n",
       "95      17916\n",
       "96      17900\n",
       "97      17866\n",
       "98      17009\n",
       "99      16976\n",
       "Name: Current Players, Length: 100, dtype: object"
      ]
     },
     "execution_count": 73,
     "metadata": {},
     "output_type": "execute_result"
    }
   ],
   "source": [
    "df['Current Players'] = df['Current Players'].str.replace('.', '')\n",
    "df['Current Players']"
   ]
  },
  {
   "cell_type": "code",
   "execution_count": 49,
   "id": "6f381e9a",
   "metadata": {},
   "outputs": [
    {
     "data": {
      "text/plain": [
       "0     Free To Play\n",
       "1     Free To Play\n",
       "2     Free To Play\n",
       "3     Free To Play\n",
       "4            23.93\n",
       "          ...     \n",
       "95           19.99\n",
       "96            7.19\n",
       "97           24.99\n",
       "98           15.99\n",
       "99    Free To Play\n",
       "Name: Price, Length: 100, dtype: object"
      ]
     },
     "execution_count": 49,
     "metadata": {},
     "output_type": "execute_result"
    }
   ],
   "source": [
    "df['Price'] = df['Price'].str.replace('£',' ')\n",
    "df['Price']"
   ]
  },
  {
   "cell_type": "code",
   "execution_count": 76,
   "id": "436f03e5",
   "metadata": {},
   "outputs": [
    {
     "data": {
      "text/plain": [
       "0         0\n",
       "1         0\n",
       "2         0\n",
       "3         0\n",
       "4      2393\n",
       "      ...  \n",
       "95     1999\n",
       "96      719\n",
       "97     2499\n",
       "98     1599\n",
       "99        0\n",
       "Name: Price, Length: 100, dtype: object"
      ]
     },
     "execution_count": 76,
     "metadata": {},
     "output_type": "execute_result"
    }
   ],
   "source": [
    "# df['Price'] = df['Price'].str.replace('Free To Play','0.00')\n",
    "df['Price'] = df['Price'].str.replace('000','0')\n",
    "\n",
    "df['Price']"
   ]
  },
  {
   "cell_type": "code",
   "execution_count": 78,
   "id": "b058e0db",
   "metadata": {},
   "outputs": [
    {
     "data": {
      "text/plain": [
       "0        0.0\n",
       "1        0.0\n",
       "2        0.0\n",
       "3        0.0\n",
       "4     2393.0\n",
       "       ...  \n",
       "95    1999.0\n",
       "96     719.0\n",
       "97    2499.0\n",
       "98    1599.0\n",
       "99       0.0\n",
       "Name: Price, Length: 100, dtype: float64"
      ]
     },
     "execution_count": 78,
     "metadata": {},
     "output_type": "execute_result"
    }
   ],
   "source": [
    "df['Price'] = df['Price'].astype(float)\n",
    "df['Price']"
   ]
  },
  {
   "cell_type": "code",
   "execution_count": 74,
   "id": "472d6516",
   "metadata": {},
   "outputs": [
    {
     "data": {
      "text/plain": [
       "0     1485535\n",
       "1      765150\n",
       "2      698757\n",
       "3      312427\n",
       "4      258475\n",
       "       ...   \n",
       "95      17916\n",
       "96      17900\n",
       "97      17866\n",
       "98      17009\n",
       "99      16976\n",
       "Name: Current Players, Length: 100, dtype: int64"
      ]
     },
     "execution_count": 74,
     "metadata": {},
     "output_type": "execute_result"
    }
   ],
   "source": [
    "df['Current Players'] = df['Current Players'].astype(int)\n",
    "df['Current Players']"
   ]
  },
  {
   "cell_type": "code",
   "execution_count": 79,
   "id": "d801e297",
   "metadata": {},
   "outputs": [
    {
     "data": {
      "text/html": [
       "<div>\n",
       "<style scoped>\n",
       "    .dataframe tbody tr th:only-of-type {\n",
       "        vertical-align: middle;\n",
       "    }\n",
       "\n",
       "    .dataframe tbody tr th {\n",
       "        vertical-align: top;\n",
       "    }\n",
       "\n",
       "    .dataframe thead th {\n",
       "        text-align: right;\n",
       "    }\n",
       "</style>\n",
       "<table border=\"1\" class=\"dataframe\">\n",
       "  <thead>\n",
       "    <tr style=\"text-align: right;\">\n",
       "      <th></th>\n",
       "      <th>Name</th>\n",
       "      <th>Current Players</th>\n",
       "    </tr>\n",
       "  </thead>\n",
       "  <tbody>\n",
       "    <tr>\n",
       "      <th>0</th>\n",
       "      <td>Counter-Strike 2</td>\n",
       "      <td>1485535</td>\n",
       "    </tr>\n",
       "    <tr>\n",
       "      <th>1</th>\n",
       "      <td>PUBG: BATTLEGROUNDS</td>\n",
       "      <td>765150</td>\n",
       "    </tr>\n",
       "    <tr>\n",
       "      <th>2</th>\n",
       "      <td>Dota 2</td>\n",
       "      <td>698757</td>\n",
       "    </tr>\n",
       "    <tr>\n",
       "      <th>3</th>\n",
       "      <td>Marvel Rivals</td>\n",
       "      <td>312427</td>\n",
       "    </tr>\n",
       "    <tr>\n",
       "      <th>4</th>\n",
       "      <td>Path of Exile 2</td>\n",
       "      <td>258475</td>\n",
       "    </tr>\n",
       "    <tr>\n",
       "      <th>5</th>\n",
       "      <td>Grand Theft Auto V</td>\n",
       "      <td>207117</td>\n",
       "    </tr>\n",
       "    <tr>\n",
       "      <th>6</th>\n",
       "      <td>NARAKA: BLADEPOINT</td>\n",
       "      <td>201876</td>\n",
       "    </tr>\n",
       "    <tr>\n",
       "      <th>7</th>\n",
       "      <td>Rust</td>\n",
       "      <td>168002</td>\n",
       "    </tr>\n",
       "    <tr>\n",
       "      <th>8</th>\n",
       "      <td>Palworld</td>\n",
       "      <td>165613</td>\n",
       "    </tr>\n",
       "    <tr>\n",
       "      <th>9</th>\n",
       "      <td>Apex Legends™</td>\n",
       "      <td>150754</td>\n",
       "    </tr>\n",
       "  </tbody>\n",
       "</table>\n",
       "</div>"
      ],
      "text/plain": [
       "                  Name  Current Players\n",
       "0     Counter-Strike 2          1485535\n",
       "1  PUBG: BATTLEGROUNDS           765150\n",
       "2               Dota 2           698757\n",
       "3        Marvel Rivals           312427\n",
       "4      Path of Exile 2           258475\n",
       "5   Grand Theft Auto V           207117\n",
       "6   NARAKA: BLADEPOINT           201876\n",
       "7                 Rust           168002\n",
       "8             Palworld           165613\n",
       "9        Apex Legends™           150754"
      ]
     },
     "execution_count": 79,
     "metadata": {},
     "output_type": "execute_result"
    }
   ],
   "source": [
    "top10_games = df[['Name','Current Players']].head(10)\n",
    "top10_games\n",
    "\n",
    "# top10_games = top10_games.sort_values(by='Current Players', ascending=False)\n",
    "# top10_games"
   ]
  },
  {
   "cell_type": "code",
   "execution_count": 112,
   "id": "0426b305",
   "metadata": {},
   "outputs": [
    {
     "data": {
      "image/png": "[encoded data removed]",
      "text/plain": [
       "<Figure size 1600x600 with 2 Axes>"
      ]
     },
     "metadata": {},
     "output_type": "display_data"
    }
   ],
   "source": [
    "import matplotlib.pyplot as plt\n",
    "\n",
    "x = top10_games['Name'].iloc[0:4]\n",
    "y = top10_games['Current Players'].iloc[0:4]\n",
    "\n",
    "fig, axes = plt.subplots(1,2, figsize=(16,6))\n",
    "\n",
    "axes[0].bar(top10_games['Name'], top10_games['Current Players'], label=\"Players\")\n",
    "\n",
    "axes[0].set_title('Number of players for most popular games on Steam')\n",
    "axes[0].set_xlabel(\"Game\")\n",
    "axes[0].set_ylabel('Number players')\n",
    "axes[0].tick_params(axis='x', rotation=90)\n",
    "axes[0].legend()\n",
    "\n",
    "plt.tight_layout()\n",
    "plt.savefig('figures/steam_exercise.png')"
   ]
  }
 ],
 "metadata": {
  "kernelspec": {
   "display_name": ".venv",
   "language": "python",
   "name": "python3"
  },
  "language_info": {
   "codemirror_mode": {
    "name": "ipython",
    "version": 3
   },
   "file_extension": ".py",
   "mimetype": "text/x-python",
   "name": "python",
   "nbconvert_exporter": "python",
   "pygments_lexer": "ipython3",
   "version": "3.12.5"
  }
 },
 "nbformat": 4,
 "nbformat_minor": 5
}
