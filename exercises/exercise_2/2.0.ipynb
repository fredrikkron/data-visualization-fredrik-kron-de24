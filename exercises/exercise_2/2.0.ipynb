{
 "cells": [
  {
   "cell_type": "markdown",
   "id": "b834b5de",
   "metadata": {},
   "source": [
    "# Exercise 2.0\n"
   ]
  },
  {
   "cell_type": "code",
   "execution_count": 118,
   "id": "e4df9603",
   "metadata": {},
   "outputs": [
    {
     "data": {
      "text/html": [
       "<div>\n",
       "<style scoped>\n",
       "    .dataframe tbody tr th:only-of-type {\n",
       "        vertical-align: middle;\n",
       "    }\n",
       "\n",
       "    .dataframe tbody tr th {\n",
       "        vertical-align: top;\n",
       "    }\n",
       "\n",
       "    .dataframe thead th {\n",
       "        text-align: right;\n",
       "    }\n",
       "</style>\n",
       "<table border=\"1\" class=\"dataframe\">\n",
       "  <thead>\n",
       "    <tr style=\"text-align: right;\">\n",
       "      <th></th>\n",
       "      <th>Entity</th>\n",
       "      <th>Code</th>\n",
       "      <th>Year</th>\n",
       "      <th>Individuals using the Internet (% of population)</th>\n",
       "    </tr>\n",
       "  </thead>\n",
       "  <tbody>\n",
       "    <tr>\n",
       "      <th>0</th>\n",
       "      <td>Afghanistan</td>\n",
       "      <td>AFG</td>\n",
       "      <td>1990</td>\n",
       "      <td>0.0</td>\n",
       "    </tr>\n",
       "    <tr>\n",
       "      <th>1</th>\n",
       "      <td>Afghanistan</td>\n",
       "      <td>AFG</td>\n",
       "      <td>1991</td>\n",
       "      <td>0.0</td>\n",
       "    </tr>\n",
       "    <tr>\n",
       "      <th>2</th>\n",
       "      <td>Afghanistan</td>\n",
       "      <td>AFG</td>\n",
       "      <td>1992</td>\n",
       "      <td>0.0</td>\n",
       "    </tr>\n",
       "    <tr>\n",
       "      <th>3</th>\n",
       "      <td>Afghanistan</td>\n",
       "      <td>AFG</td>\n",
       "      <td>1993</td>\n",
       "      <td>0.0</td>\n",
       "    </tr>\n",
       "    <tr>\n",
       "      <th>4</th>\n",
       "      <td>Afghanistan</td>\n",
       "      <td>AFG</td>\n",
       "      <td>1994</td>\n",
       "      <td>0.0</td>\n",
       "    </tr>\n",
       "  </tbody>\n",
       "</table>\n",
       "</div>"
      ],
      "text/plain": [
       "        Entity Code  Year  Individuals using the Internet (% of population)\n",
       "0  Afghanistan  AFG  1990                                               0.0\n",
       "1  Afghanistan  AFG  1991                                               0.0\n",
       "2  Afghanistan  AFG  1992                                               0.0\n",
       "3  Afghanistan  AFG  1993                                               0.0\n",
       "4  Afghanistan  AFG  1994                                               0.0"
      ]
     },
     "execution_count": 118,
     "metadata": {},
     "output_type": "execute_result"
    }
   ],
   "source": [
    "import plotly.express as px\n",
    "import pandas as pd\n",
    "\n",
    "df = pd.read_csv(\"data/share-of-individuals-using-the-internet.csv\")\n",
    "\n",
    "df.head()"
   ]
  },
  {
   "cell_type": "code",
   "execution_count": 119,
   "id": "0e3163f5",
   "metadata": {},
   "outputs": [
    {
     "name": "stdout",
     "output_type": "stream",
     "text": [
      "<class 'pandas.core.frame.DataFrame'>\n",
      "RangeIndex: 7184 entries, 0 to 7183\n",
      "Data columns (total 4 columns):\n",
      " #   Column                                            Non-Null Count  Dtype  \n",
      "---  ------                                            --------------  -----  \n",
      " 0   Entity                                            7184 non-null   object \n",
      " 1   Code                                              6717 non-null   object \n",
      " 2   Year                                              7184 non-null   int64  \n",
      " 3   Individuals using the Internet (% of population)  7184 non-null   float64\n",
      "dtypes: float64(1), int64(1), object(2)\n",
      "memory usage: 224.6+ KB\n"
     ]
    }
   ],
   "source": [
    "df.info()"
   ]
  },
  {
   "cell_type": "code",
   "execution_count": 120,
   "id": "031ff4b1",
   "metadata": {},
   "outputs": [
    {
     "data": {
      "text/plain": [
       "Index(['Entity', 'Code', 'Year',\n",
       "       'Individuals using the Internet (% of population)'],\n",
       "      dtype='object')"
      ]
     },
     "execution_count": 120,
     "metadata": {},
     "output_type": "execute_result"
    }
   ],
   "source": [
    "df.columns"
   ]
  },
  {
   "cell_type": "code",
   "execution_count": 121,
   "id": "56c33e1d",
   "metadata": {},
   "outputs": [
    {
     "data": {
      "text/html": [
       "<div>\n",
       "<style scoped>\n",
       "    .dataframe tbody tr th:only-of-type {\n",
       "        vertical-align: middle;\n",
       "    }\n",
       "\n",
       "    .dataframe tbody tr th {\n",
       "        vertical-align: top;\n",
       "    }\n",
       "\n",
       "    .dataframe thead th {\n",
       "        text-align: right;\n",
       "    }\n",
       "</style>\n",
       "<table border=\"1\" class=\"dataframe\">\n",
       "  <thead>\n",
       "    <tr style=\"text-align: right;\">\n",
       "      <th></th>\n",
       "      <th>Entity</th>\n",
       "      <th>Code</th>\n",
       "      <th>Year</th>\n",
       "      <th>Individuals using the Internet (% of population)</th>\n",
       "    </tr>\n",
       "  </thead>\n",
       "  <tbody>\n",
       "    <tr>\n",
       "      <th>59</th>\n",
       "      <td>Albania</td>\n",
       "      <td>ALB</td>\n",
       "      <td>2023</td>\n",
       "      <td>83.1356</td>\n",
       "    </tr>\n",
       "    <tr>\n",
       "      <th>229</th>\n",
       "      <td>Argentina</td>\n",
       "      <td>ARG</td>\n",
       "      <td>2023</td>\n",
       "      <td>89.2290</td>\n",
       "    </tr>\n",
       "    <tr>\n",
       "      <th>352</th>\n",
       "      <td>Austria</td>\n",
       "      <td>AUT</td>\n",
       "      <td>2023</td>\n",
       "      <td>95.3347</td>\n",
       "    </tr>\n",
       "    <tr>\n",
       "      <th>450</th>\n",
       "      <td>Bahrain</td>\n",
       "      <td>BHR</td>\n",
       "      <td>2023</td>\n",
       "      <td>100.0000</td>\n",
       "    </tr>\n",
       "    <tr>\n",
       "      <th>483</th>\n",
       "      <td>Bangladesh</td>\n",
       "      <td>BGD</td>\n",
       "      <td>2023</td>\n",
       "      <td>44.5027</td>\n",
       "    </tr>\n",
       "    <tr>\n",
       "      <th>...</th>\n",
       "      <td>...</td>\n",
       "      <td>...</td>\n",
       "      <td>...</td>\n",
       "      <td>...</td>\n",
       "    </tr>\n",
       "    <tr>\n",
       "      <th>6762</th>\n",
       "      <td>United Arab Emirates</td>\n",
       "      <td>ARE</td>\n",
       "      <td>2023</td>\n",
       "      <td>100.0000</td>\n",
       "    </tr>\n",
       "    <tr>\n",
       "      <th>6890</th>\n",
       "      <td>Upper-middle-income countries</td>\n",
       "      <td>NaN</td>\n",
       "      <td>2023</td>\n",
       "      <td>80.0000</td>\n",
       "    </tr>\n",
       "    <tr>\n",
       "      <th>6957</th>\n",
       "      <td>Uzbekistan</td>\n",
       "      <td>UZB</td>\n",
       "      <td>2023</td>\n",
       "      <td>89.0136</td>\n",
       "    </tr>\n",
       "    <tr>\n",
       "      <th>7052</th>\n",
       "      <td>Vietnam</td>\n",
       "      <td>VNM</td>\n",
       "      <td>2023</td>\n",
       "      <td>78.0800</td>\n",
       "    </tr>\n",
       "    <tr>\n",
       "      <th>7086</th>\n",
       "      <td>World</td>\n",
       "      <td>OWID_WRL</td>\n",
       "      <td>2023</td>\n",
       "      <td>67.4000</td>\n",
       "    </tr>\n",
       "  </tbody>\n",
       "</table>\n",
       "<p>71 rows × 4 columns</p>\n",
       "</div>"
      ],
      "text/plain": [
       "                             Entity      Code  Year  \\\n",
       "59                          Albania       ALB  2023   \n",
       "229                       Argentina       ARG  2023   \n",
       "352                         Austria       AUT  2023   \n",
       "450                         Bahrain       BHR  2023   \n",
       "483                      Bangladesh       BGD  2023   \n",
       "...                             ...       ...   ...   \n",
       "6762           United Arab Emirates       ARE  2023   \n",
       "6890  Upper-middle-income countries       NaN  2023   \n",
       "6957                     Uzbekistan       UZB  2023   \n",
       "7052                        Vietnam       VNM  2023   \n",
       "7086                          World  OWID_WRL  2023   \n",
       "\n",
       "      Individuals using the Internet (% of population)  \n",
       "59                                             83.1356  \n",
       "229                                            89.2290  \n",
       "352                                            95.3347  \n",
       "450                                           100.0000  \n",
       "483                                            44.5027  \n",
       "...                                                ...  \n",
       "6762                                          100.0000  \n",
       "6890                                           80.0000  \n",
       "6957                                           89.0136  \n",
       "7052                                           78.0800  \n",
       "7086                                           67.4000  \n",
       "\n",
       "[71 rows x 4 columns]"
      ]
     },
     "execution_count": 121,
     "metadata": {},
     "output_type": "execute_result"
    }
   ],
   "source": [
    "df2023 = df[df[\"Year\"] == 2023]\n",
    "df2023"
   ]
  },
  {
   "cell_type": "code",
   "execution_count": 122,
   "id": "894b885e",
   "metadata": {},
   "outputs": [
    {
     "data": {
      "text/html": [
       "<div>\n",
       "<style scoped>\n",
       "    .dataframe tbody tr th:only-of-type {\n",
       "        vertical-align: middle;\n",
       "    }\n",
       "\n",
       "    .dataframe tbody tr th {\n",
       "        vertical-align: top;\n",
       "    }\n",
       "\n",
       "    .dataframe thead th {\n",
       "        text-align: right;\n",
       "    }\n",
       "</style>\n",
       "<table border=\"1\" class=\"dataframe\">\n",
       "  <thead>\n",
       "    <tr style=\"text-align: right;\">\n",
       "      <th></th>\n",
       "      <th>Entity</th>\n",
       "      <th>Code</th>\n",
       "      <th>Year</th>\n",
       "      <th>Individuals using the Internet (% of population)</th>\n",
       "    </tr>\n",
       "  </thead>\n",
       "  <tbody>\n",
       "    <tr>\n",
       "      <th>1794</th>\n",
       "      <td>East Asia and Pacific (WB)</td>\n",
       "      <td>NaN</td>\n",
       "      <td>2023</td>\n",
       "      <td>79.0</td>\n",
       "    </tr>\n",
       "    <tr>\n",
       "      <th>2115</th>\n",
       "      <td>Europe and Central Asia (WB)</td>\n",
       "      <td>NaN</td>\n",
       "      <td>2023</td>\n",
       "      <td>90.1</td>\n",
       "    </tr>\n",
       "    <tr>\n",
       "      <th>3521</th>\n",
       "      <td>Latin America and Caribbean (WB)</td>\n",
       "      <td>NaN</td>\n",
       "      <td>2023</td>\n",
       "      <td>81.0</td>\n",
       "    </tr>\n",
       "    <tr>\n",
       "      <th>4286</th>\n",
       "      <td>Middle East and North Africa (WB)</td>\n",
       "      <td>NaN</td>\n",
       "      <td>2023</td>\n",
       "      <td>77.7</td>\n",
       "    </tr>\n",
       "    <tr>\n",
       "      <th>4828</th>\n",
       "      <td>North America (WB)</td>\n",
       "      <td>NaN</td>\n",
       "      <td>2023</td>\n",
       "      <td>97.3</td>\n",
       "    </tr>\n",
       "    <tr>\n",
       "      <th>6136</th>\n",
       "      <td>Sub-Saharan Africa (WB)</td>\n",
       "      <td>NaN</td>\n",
       "      <td>2023</td>\n",
       "      <td>36.7</td>\n",
       "    </tr>\n",
       "    <tr>\n",
       "      <th>7086</th>\n",
       "      <td>World</td>\n",
       "      <td>OWID_WRL</td>\n",
       "      <td>2023</td>\n",
       "      <td>67.4</td>\n",
       "    </tr>\n",
       "  </tbody>\n",
       "</table>\n",
       "</div>"
      ],
      "text/plain": [
       "                                 Entity      Code  Year  \\\n",
       "1794         East Asia and Pacific (WB)       NaN  2023   \n",
       "2115       Europe and Central Asia (WB)       NaN  2023   \n",
       "3521   Latin America and Caribbean (WB)       NaN  2023   \n",
       "4286  Middle East and North Africa (WB)       NaN  2023   \n",
       "4828                 North America (WB)       NaN  2023   \n",
       "6136            Sub-Saharan Africa (WB)       NaN  2023   \n",
       "7086                              World  OWID_WRL  2023   \n",
       "\n",
       "      Individuals using the Internet (% of population)  \n",
       "1794                                              79.0  \n",
       "2115                                              90.1  \n",
       "3521                                              81.0  \n",
       "4286                                              77.7  \n",
       "4828                                              97.3  \n",
       "6136                                              36.7  \n",
       "7086                                              67.4  "
      ]
     },
     "execution_count": 122,
     "metadata": {},
     "output_type": "execute_result"
    }
   ],
   "source": [
    "df2023 = df2023[\n",
    "    df2023[\"Entity\"].isin(\n",
    "        [\n",
    "            \"North America (WB)\",\n",
    "            \"Europe and Central Asia (WB)\",\n",
    "            \"Latin America and Caribbean (WB)\",\n",
    "            \"East Asia and Pacific (WB)\",\n",
    "            \"Middle East and North Africa (WB)\",\n",
    "            \"South Asia (WB)\",\n",
    "            \"Sub-Saharan Africa (WB)\",\n",
    "            \"World\",\n",
    "        ]\n",
    "    )\n",
    "]\n",
    "df2023"
   ]
  },
  {
   "cell_type": "code",
   "execution_count": 123,
   "id": "caea4f21",
   "metadata": {},
   "outputs": [
    {
     "data": {
      "text/html": [
       "<div>\n",
       "<style scoped>\n",
       "    .dataframe tbody tr th:only-of-type {\n",
       "        vertical-align: middle;\n",
       "    }\n",
       "\n",
       "    .dataframe tbody tr th {\n",
       "        vertical-align: top;\n",
       "    }\n",
       "\n",
       "    .dataframe thead th {\n",
       "        text-align: right;\n",
       "    }\n",
       "</style>\n",
       "<table border=\"1\" class=\"dataframe\">\n",
       "  <thead>\n",
       "    <tr style=\"text-align: right;\">\n",
       "      <th></th>\n",
       "      <th>Entity</th>\n",
       "      <th>Code</th>\n",
       "      <th>Year</th>\n",
       "      <th>Individuals using the Internet (% of population)</th>\n",
       "    </tr>\n",
       "  </thead>\n",
       "  <tbody>\n",
       "    <tr>\n",
       "      <th>1794</th>\n",
       "      <td>East Asia and Pacific (WB)</td>\n",
       "      <td>NaN</td>\n",
       "      <td>2023</td>\n",
       "      <td>79.0</td>\n",
       "    </tr>\n",
       "    <tr>\n",
       "      <th>2115</th>\n",
       "      <td>Europe and Central Asia (WB)</td>\n",
       "      <td>NaN</td>\n",
       "      <td>2023</td>\n",
       "      <td>90.1</td>\n",
       "    </tr>\n",
       "    <tr>\n",
       "      <th>3521</th>\n",
       "      <td>Latin America and Caribbean (WB)</td>\n",
       "      <td>NaN</td>\n",
       "      <td>2023</td>\n",
       "      <td>81.0</td>\n",
       "    </tr>\n",
       "    <tr>\n",
       "      <th>4286</th>\n",
       "      <td>Middle East and North Africa (WB)</td>\n",
       "      <td>NaN</td>\n",
       "      <td>2023</td>\n",
       "      <td>77.7</td>\n",
       "    </tr>\n",
       "    <tr>\n",
       "      <th>4828</th>\n",
       "      <td>North America (WB)</td>\n",
       "      <td>NaN</td>\n",
       "      <td>2023</td>\n",
       "      <td>97.3</td>\n",
       "    </tr>\n",
       "    <tr>\n",
       "      <th>6136</th>\n",
       "      <td>Sub-Saharan Africa (WB)</td>\n",
       "      <td>NaN</td>\n",
       "      <td>2023</td>\n",
       "      <td>36.7</td>\n",
       "    </tr>\n",
       "    <tr>\n",
       "      <th>7086</th>\n",
       "      <td>World</td>\n",
       "      <td>OWID_WRL</td>\n",
       "      <td>2023</td>\n",
       "      <td>67.4</td>\n",
       "    </tr>\n",
       "  </tbody>\n",
       "</table>\n",
       "</div>"
      ],
      "text/plain": [
       "                                 Entity      Code  Year  \\\n",
       "1794         East Asia and Pacific (WB)       NaN  2023   \n",
       "2115       Europe and Central Asia (WB)       NaN  2023   \n",
       "3521   Latin America and Caribbean (WB)       NaN  2023   \n",
       "4286  Middle East and North Africa (WB)       NaN  2023   \n",
       "4828                 North America (WB)       NaN  2023   \n",
       "6136            Sub-Saharan Africa (WB)       NaN  2023   \n",
       "7086                              World  OWID_WRL  2023   \n",
       "\n",
       "      Individuals using the Internet (% of population)  \n",
       "1794                                              79.0  \n",
       "2115                                              90.1  \n",
       "3521                                              81.0  \n",
       "4286                                              77.7  \n",
       "4828                                              97.3  \n",
       "6136                                              36.7  \n",
       "7086                                              67.4  "
      ]
     },
     "execution_count": 123,
     "metadata": {},
     "output_type": "execute_result"
    }
   ],
   "source": [
    "continents = [\n",
    "    \"North America (WB)\",\n",
    "    \"Europe and Central Asia (WB)\",\n",
    "    \"Latin America and Caribbean (WB)\",\n",
    "    \"East Asia and Pacific (WB)\",\n",
    "    \"Middle East and North Africa (WB)\",\n",
    "    \"Sub-Saharan Africa (WB)\",\n",
    "    \"World\",\n",
    "]\n",
    "df2023 = df2023[df2023[\"Entity\"].isin(continents)]\n",
    "df2023"
   ]
  },
  {
   "cell_type": "code",
   "execution_count": 124,
   "id": "be5a6892",
   "metadata": {},
   "outputs": [
    {
     "data": {
      "text/html": [
       "<div>\n",
       "<style scoped>\n",
       "    .dataframe tbody tr th:only-of-type {\n",
       "        vertical-align: middle;\n",
       "    }\n",
       "\n",
       "    .dataframe tbody tr th {\n",
       "        vertical-align: top;\n",
       "    }\n",
       "\n",
       "    .dataframe thead th {\n",
       "        text-align: right;\n",
       "    }\n",
       "</style>\n",
       "<table border=\"1\" class=\"dataframe\">\n",
       "  <thead>\n",
       "    <tr style=\"text-align: right;\">\n",
       "      <th></th>\n",
       "      <th>Entity</th>\n",
       "      <th>Code</th>\n",
       "      <th>Year</th>\n",
       "      <th>Individuals using the Internet (% of population)</th>\n",
       "    </tr>\n",
       "  </thead>\n",
       "  <tbody>\n",
       "    <tr>\n",
       "      <th>5997</th>\n",
       "      <td>South Asia (WB)</td>\n",
       "      <td>NaN</td>\n",
       "      <td>2021</td>\n",
       "      <td>42.850647</td>\n",
       "    </tr>\n",
       "  </tbody>\n",
       "</table>\n",
       "</div>"
      ],
      "text/plain": [
       "               Entity Code  Year  \\\n",
       "5997  South Asia (WB)  NaN  2021   \n",
       "\n",
       "      Individuals using the Internet (% of population)  \n",
       "5997                                         42.850647  "
      ]
     },
     "execution_count": 124,
     "metadata": {},
     "output_type": "execute_result"
    }
   ],
   "source": [
    "south_asia = df[(df[\"Entity\"] == \"South Asia (WB)\") & (df[\"Year\"] == 2021)]\n",
    "south_asia"
   ]
  },
  {
   "cell_type": "code",
   "execution_count": 125,
   "id": "f70a3b24",
   "metadata": {},
   "outputs": [
    {
     "data": {
      "text/html": [
       "<div>\n",
       "<style scoped>\n",
       "    .dataframe tbody tr th:only-of-type {\n",
       "        vertical-align: middle;\n",
       "    }\n",
       "\n",
       "    .dataframe tbody tr th {\n",
       "        vertical-align: top;\n",
       "    }\n",
       "\n",
       "    .dataframe thead th {\n",
       "        text-align: right;\n",
       "    }\n",
       "</style>\n",
       "<table border=\"1\" class=\"dataframe\">\n",
       "  <thead>\n",
       "    <tr style=\"text-align: right;\">\n",
       "      <th></th>\n",
       "      <th>Entity</th>\n",
       "      <th>Code</th>\n",
       "      <th>Year</th>\n",
       "      <th>Individuals using the Internet (% of population)</th>\n",
       "    </tr>\n",
       "  </thead>\n",
       "  <tbody>\n",
       "    <tr>\n",
       "      <th>1794</th>\n",
       "      <td>East Asia and Pacific (WB)</td>\n",
       "      <td>NaN</td>\n",
       "      <td>2023</td>\n",
       "      <td>79.000000</td>\n",
       "    </tr>\n",
       "    <tr>\n",
       "      <th>2115</th>\n",
       "      <td>Europe and Central Asia (WB)</td>\n",
       "      <td>NaN</td>\n",
       "      <td>2023</td>\n",
       "      <td>90.100000</td>\n",
       "    </tr>\n",
       "    <tr>\n",
       "      <th>3521</th>\n",
       "      <td>Latin America and Caribbean (WB)</td>\n",
       "      <td>NaN</td>\n",
       "      <td>2023</td>\n",
       "      <td>81.000000</td>\n",
       "    </tr>\n",
       "    <tr>\n",
       "      <th>4286</th>\n",
       "      <td>Middle East and North Africa (WB)</td>\n",
       "      <td>NaN</td>\n",
       "      <td>2023</td>\n",
       "      <td>77.700000</td>\n",
       "    </tr>\n",
       "    <tr>\n",
       "      <th>4828</th>\n",
       "      <td>North America (WB)</td>\n",
       "      <td>NaN</td>\n",
       "      <td>2023</td>\n",
       "      <td>97.300000</td>\n",
       "    </tr>\n",
       "    <tr>\n",
       "      <th>6136</th>\n",
       "      <td>Sub-Saharan Africa (WB)</td>\n",
       "      <td>NaN</td>\n",
       "      <td>2023</td>\n",
       "      <td>36.700000</td>\n",
       "    </tr>\n",
       "    <tr>\n",
       "      <th>7086</th>\n",
       "      <td>World</td>\n",
       "      <td>OWID_WRL</td>\n",
       "      <td>2023</td>\n",
       "      <td>67.400000</td>\n",
       "    </tr>\n",
       "    <tr>\n",
       "      <th>5997</th>\n",
       "      <td>South Asia (WB)</td>\n",
       "      <td>NaN</td>\n",
       "      <td>2021</td>\n",
       "      <td>42.850647</td>\n",
       "    </tr>\n",
       "  </tbody>\n",
       "</table>\n",
       "</div>"
      ],
      "text/plain": [
       "                                 Entity      Code  Year  \\\n",
       "1794         East Asia and Pacific (WB)       NaN  2023   \n",
       "2115       Europe and Central Asia (WB)       NaN  2023   \n",
       "3521   Latin America and Caribbean (WB)       NaN  2023   \n",
       "4286  Middle East and North Africa (WB)       NaN  2023   \n",
       "4828                 North America (WB)       NaN  2023   \n",
       "6136            Sub-Saharan Africa (WB)       NaN  2023   \n",
       "7086                              World  OWID_WRL  2023   \n",
       "5997                    South Asia (WB)       NaN  2021   \n",
       "\n",
       "      Individuals using the Internet (% of population)  \n",
       "1794                                         79.000000  \n",
       "2115                                         90.100000  \n",
       "3521                                         81.000000  \n",
       "4286                                         77.700000  \n",
       "4828                                         97.300000  \n",
       "6136                                         36.700000  \n",
       "7086                                         67.400000  \n",
       "5997                                         42.850647  "
      ]
     },
     "execution_count": 125,
     "metadata": {},
     "output_type": "execute_result"
    }
   ],
   "source": [
    "df_all = pd.concat([df2023, south_asia])\n",
    "df_all"
   ]
  },
  {
   "cell_type": "code",
   "execution_count": 126,
   "id": "912d6e47",
   "metadata": {},
   "outputs": [
    {
     "data": {
      "text/html": [
       "<div>\n",
       "<style scoped>\n",
       "    .dataframe tbody tr th:only-of-type {\n",
       "        vertical-align: middle;\n",
       "    }\n",
       "\n",
       "    .dataframe tbody tr th {\n",
       "        vertical-align: top;\n",
       "    }\n",
       "\n",
       "    .dataframe thead th {\n",
       "        text-align: right;\n",
       "    }\n",
       "</style>\n",
       "<table border=\"1\" class=\"dataframe\">\n",
       "  <thead>\n",
       "    <tr style=\"text-align: right;\">\n",
       "      <th></th>\n",
       "      <th>Entity</th>\n",
       "      <th>Code</th>\n",
       "      <th>Year</th>\n",
       "      <th>Individuals using the Internet (% of population)</th>\n",
       "    </tr>\n",
       "  </thead>\n",
       "  <tbody>\n",
       "    <tr>\n",
       "      <th>4828</th>\n",
       "      <td>North America (WB)</td>\n",
       "      <td>NaN</td>\n",
       "      <td>2023</td>\n",
       "      <td>97.300000</td>\n",
       "    </tr>\n",
       "    <tr>\n",
       "      <th>2115</th>\n",
       "      <td>Europe and Central Asia (WB)</td>\n",
       "      <td>NaN</td>\n",
       "      <td>2023</td>\n",
       "      <td>90.100000</td>\n",
       "    </tr>\n",
       "    <tr>\n",
       "      <th>3521</th>\n",
       "      <td>Latin America and Caribbean (WB)</td>\n",
       "      <td>NaN</td>\n",
       "      <td>2023</td>\n",
       "      <td>81.000000</td>\n",
       "    </tr>\n",
       "    <tr>\n",
       "      <th>1794</th>\n",
       "      <td>East Asia and Pacific (WB)</td>\n",
       "      <td>NaN</td>\n",
       "      <td>2023</td>\n",
       "      <td>79.000000</td>\n",
       "    </tr>\n",
       "    <tr>\n",
       "      <th>4286</th>\n",
       "      <td>Middle East and North Africa (WB)</td>\n",
       "      <td>NaN</td>\n",
       "      <td>2023</td>\n",
       "      <td>77.700000</td>\n",
       "    </tr>\n",
       "    <tr>\n",
       "      <th>7086</th>\n",
       "      <td>World</td>\n",
       "      <td>OWID_WRL</td>\n",
       "      <td>2023</td>\n",
       "      <td>67.400000</td>\n",
       "    </tr>\n",
       "    <tr>\n",
       "      <th>5997</th>\n",
       "      <td>South Asia (WB)</td>\n",
       "      <td>NaN</td>\n",
       "      <td>2021</td>\n",
       "      <td>42.850647</td>\n",
       "    </tr>\n",
       "    <tr>\n",
       "      <th>6136</th>\n",
       "      <td>Sub-Saharan Africa (WB)</td>\n",
       "      <td>NaN</td>\n",
       "      <td>2023</td>\n",
       "      <td>36.700000</td>\n",
       "    </tr>\n",
       "  </tbody>\n",
       "</table>\n",
       "</div>"
      ],
      "text/plain": [
       "                                 Entity      Code  Year  \\\n",
       "4828                 North America (WB)       NaN  2023   \n",
       "2115       Europe and Central Asia (WB)       NaN  2023   \n",
       "3521   Latin America and Caribbean (WB)       NaN  2023   \n",
       "1794         East Asia and Pacific (WB)       NaN  2023   \n",
       "4286  Middle East and North Africa (WB)       NaN  2023   \n",
       "7086                              World  OWID_WRL  2023   \n",
       "5997                    South Asia (WB)       NaN  2021   \n",
       "6136            Sub-Saharan Africa (WB)       NaN  2023   \n",
       "\n",
       "      Individuals using the Internet (% of population)  \n",
       "4828                                         97.300000  \n",
       "2115                                         90.100000  \n",
       "3521                                         81.000000  \n",
       "1794                                         79.000000  \n",
       "4286                                         77.700000  \n",
       "7086                                         67.400000  \n",
       "5997                                         42.850647  \n",
       "6136                                         36.700000  "
      ]
     },
     "execution_count": 126,
     "metadata": {},
     "output_type": "execute_result"
    }
   ],
   "source": [
    "dfall = df_all.sort_values(\n",
    "    by=\"Individuals using the Internet (% of population)\", ascending=False\n",
    ")\n",
    "dfall"
   ]
  },
  {
   "cell_type": "code",
   "execution_count": 215,
   "id": "be104ce1",
   "metadata": {},
   "outputs": [
    {
     "data": {
      "application/vnd.plotly.v1+json": {
       "config": {
        "plotlyServerURL": "https://plot.ly"
       },
       "data": [
        {
         "hovertemplate": "Entity=%{y}<br>Individuals using the Internet (% of population)=%{x}<extra></extra>",
         "legendgroup": "North America (WB)",
         "marker": {
          "color": "blueviolet",
          "pattern": {
           "shape": ""
          }
         },
         "name": "North America (WB)",
         "orientation": "h",
         "showlegend": true,
         "textposition": "outside",
         "texttemplate": "%{x:.1f}%",
         "type": "bar",
         "width": 0.6,
         "x": {
          "bdata": "MzMzMzNTWEA=",
          "dtype": "f8"
         },
         "xaxis": "x",
         "y": [
          "North America (WB)"
         ],
         "yaxis": "y"
        },
        {
         "hovertemplate": "Entity=%{y}<br>Individuals using the Internet (% of population)=%{x}<extra></extra>",
         "legendgroup": "Europe and Central Asia (WB)",
         "marker": {
          "color": "blueviolet",
          "pattern": {
           "shape": ""
          }
         },
         "name": "Europe and Central Asia (WB)",
         "orientation": "h",
         "showlegend": true,
         "textposition": "outside",
         "texttemplate": "%{x:.1f}%",
         "type": "bar",
         "width": 0.6,
         "x": {
          "bdata": "ZmZmZmaGVkA=",
          "dtype": "f8"
         },
         "xaxis": "x",
         "y": [
          "Europe and Central Asia (WB)"
         ],
         "yaxis": "y"
        },
        {
         "hovertemplate": "Entity=%{y}<br>Individuals using the Internet (% of population)=%{x}<extra></extra>",
         "legendgroup": "Latin America and Caribbean (WB)",
         "marker": {
          "color": "blueviolet",
          "pattern": {
           "shape": ""
          }
         },
         "name": "Latin America and Caribbean (WB)",
         "orientation": "h",
         "showlegend": true,
         "textposition": "outside",
         "texttemplate": "%{x:.1f}%",
         "type": "bar",
         "width": 0.6,
         "x": {
          "bdata": "AAAAAABAVEA=",
          "dtype": "f8"
         },
         "xaxis": "x",
         "y": [
          "Latin America and Caribbean (WB)"
         ],
         "yaxis": "y"
        },
        {
         "hovertemplate": "Entity=%{y}<br>Individuals using the Internet (% of population)=%{x}<extra></extra>",
         "legendgroup": "East Asia and Pacific (WB)",
         "marker": {
          "color": "blueviolet",
          "pattern": {
           "shape": ""
          }
         },
         "name": "East Asia and Pacific (WB)",
         "orientation": "h",
         "showlegend": true,
         "textposition": "outside",
         "texttemplate": "%{x:.1f}%",
         "type": "bar",
         "width": 0.6,
         "x": {
          "bdata": "AAAAAADAU0A=",
          "dtype": "f8"
         },
         "xaxis": "x",
         "y": [
          "East Asia and Pacific (WB)"
         ],
         "yaxis": "y"
        },
        {
         "hovertemplate": "Entity=%{y}<br>Individuals using the Internet (% of population)=%{x}<extra></extra>",
         "legendgroup": "Middle East and North Africa (WB)",
         "marker": {
          "color": "blueviolet",
          "pattern": {
           "shape": ""
          }
         },
         "name": "Middle East and North Africa (WB)",
         "orientation": "h",
         "showlegend": true,
         "textposition": "outside",
         "texttemplate": "%{x:.1f}%",
         "type": "bar",
         "width": 0.6,
         "x": {
          "bdata": "zczMzMxsU0A=",
          "dtype": "f8"
         },
         "xaxis": "x",
         "y": [
          "Middle East and North Africa (WB)"
         ],
         "yaxis": "y"
        },
        {
         "hovertemplate": "Entity=%{y}<br>Individuals using the Internet (% of population)=%{x}<extra></extra>",
         "legendgroup": "World",
         "marker": {
          "color": "blueviolet",
          "pattern": {
           "shape": ""
          }
         },
         "name": "World",
         "orientation": "h",
         "showlegend": true,
         "textposition": "outside",
         "texttemplate": "%{x:.1f}%",
         "type": "bar",
         "width": 0.6,
         "x": {
          "bdata": "mpmZmZnZUEA=",
          "dtype": "f8"
         },
         "xaxis": "x",
         "y": [
          "World"
         ],
         "yaxis": "y"
        },
        {
         "hovertemplate": "Entity=%{y}<br>Individuals using the Internet (% of population)=%{x}<extra></extra>",
         "legendgroup": "South Asia (WB)",
         "marker": {
          "color": "blueviolet",
          "pattern": {
           "shape": ""
          }
         },
         "name": "South Asia (WB)",
         "orientation": "h",
         "showlegend": true,
         "textposition": "outside",
         "texttemplate": "%{x:.1f}%",
         "type": "bar",
         "width": 0.6,
         "x": {
          "bdata": "Y7g6AOJsRUA=",
          "dtype": "f8"
         },
         "xaxis": "x",
         "y": [
          "South Asia (WB)"
         ],
         "yaxis": "y"
        },
        {
         "hovertemplate": "Entity=%{y}<br>Individuals using the Internet (% of population)=%{x}<extra></extra>",
         "legendgroup": "Sub-Saharan Africa (WB)",
         "marker": {
          "color": "blueviolet",
          "pattern": {
           "shape": ""
          }
         },
         "name": "Sub-Saharan Africa (WB)",
         "orientation": "h",
         "showlegend": true,
         "textposition": "outside",
         "texttemplate": "%{x:.1f}%",
         "type": "bar",
         "width": 0.6,
         "x": {
          "bdata": "mpmZmZlZQkA=",
          "dtype": "f8"
         },
         "xaxis": "x",
         "y": [
          "Sub-Saharan Africa (WB)"
         ],
         "yaxis": "y"
        }
       ],
       "layout": {
        "annotations": [
         {
          "font": {
           "size": 16
          },
          "showarrow": false,
          "text": "Share of the population who used the Internet in the last three months.",
          "x": -0.407,
          "xref": "paper",
          "y": 1.07,
          "yref": "paper"
         },
         {
          "font": {
           "color": "lightgrey",
           "size": 14
          },
          "showarrow": false,
          "text": "in 2021",
          "x": 0.507,
          "xref": "paper",
          "y": 0.1701,
          "yref": "paper"
         }
        ],
        "barmode": "relative",
        "height": 800,
        "legend": {
         "title": {
          "text": "Entity"
         },
         "tracegroupgap": 0
        },
        "plot_bgcolor": "white",
        "showlegend": false,
        "template": {
         "data": {
          "bar": [
           {
            "error_x": {
             "color": "#2a3f5f"
            },
            "error_y": {
             "color": "#2a3f5f"
            },
            "marker": {
             "line": {
              "color": "#E5ECF6",
              "width": 0.5
             },
             "pattern": {
              "fillmode": "overlay",
              "size": 10,
              "solidity": 0.2
             }
            },
            "type": "bar"
           }
          ],
          "barpolar": [
           {
            "marker": {
             "line": {
              "color": "#E5ECF6",
              "width": 0.5
             },
             "pattern": {
              "fillmode": "overlay",
              "size": 10,
              "solidity": 0.2
             }
            },
            "type": "barpolar"
           }
          ],
          "carpet": [
           {
            "aaxis": {
             "endlinecolor": "#2a3f5f",
             "gridcolor": "white",
             "linecolor": "white",
             "minorgridcolor": "white",
             "startlinecolor": "#2a3f5f"
            },
            "baxis": {
             "endlinecolor": "#2a3f5f",
             "gridcolor": "white",
             "linecolor": "white",
             "minorgridcolor": "white",
             "startlinecolor": "#2a3f5f"
            },
            "type": "carpet"
           }
          ],
          "choropleth": [
           {
            "colorbar": {
             "outlinewidth": 0,
             "ticks": ""
            },
            "type": "choropleth"
           }
          ],
          "contour": [
           {
            "colorbar": {
             "outlinewidth": 0,
             "ticks": ""
            },
            "colorscale": [
             [
              0,
              "#0d0887"
             ],
             [
              0.1111111111111111,
              "#46039f"
             ],
             [
              0.2222222222222222,
              "#7201a8"
             ],
             [
              0.3333333333333333,
              "#9c179e"
             ],
             [
              0.4444444444444444,
              "#bd3786"
             ],
             [
              0.5555555555555556,
              "#d8576b"
             ],
             [
              0.6666666666666666,
              "#ed7953"
             ],
             [
              0.7777777777777778,
              "#fb9f3a"
             ],
             [
              0.8888888888888888,
              "#fdca26"
             ],
             [
              1,
              "#f0f921"
             ]
            ],
            "type": "contour"
           }
          ],
          "contourcarpet": [
           {
            "colorbar": {
             "outlinewidth": 0,
             "ticks": ""
            },
            "type": "contourcarpet"
           }
          ],
          "heatmap": [
           {
            "colorbar": {
             "outlinewidth": 0,
             "ticks": ""
            },
            "colorscale": [
             [
              0,
              "#0d0887"
             ],
             [
              0.1111111111111111,
              "#46039f"
             ],
             [
              0.2222222222222222,
              "#7201a8"
             ],
             [
              0.3333333333333333,
              "#9c179e"
             ],
             [
              0.4444444444444444,
              "#bd3786"
             ],
             [
              0.5555555555555556,
              "#d8576b"
             ],
             [
              0.6666666666666666,
              "#ed7953"
             ],
             [
              0.7777777777777778,
              "#fb9f3a"
             ],
             [
              0.8888888888888888,
              "#fdca26"
             ],
             [
              1,
              "#f0f921"
             ]
            ],
            "type": "heatmap"
           }
          ],
          "histogram": [
           {
            "marker": {
             "pattern": {
              "fillmode": "overlay",
              "size": 10,
              "solidity": 0.2
             }
            },
            "type": "histogram"
           }
          ],
          "histogram2d": [
           {
            "colorbar": {
             "outlinewidth": 0,
             "ticks": ""
            },
            "colorscale": [
             [
              0,
              "#0d0887"
             ],
             [
              0.1111111111111111,
              "#46039f"
             ],
             [
              0.2222222222222222,
              "#7201a8"
             ],
             [
              0.3333333333333333,
              "#9c179e"
             ],
             [
              0.4444444444444444,
              "#bd3786"
             ],
             [
              0.5555555555555556,
              "#d8576b"
             ],
             [
              0.6666666666666666,
              "#ed7953"
             ],
             [
              0.7777777777777778,
              "#fb9f3a"
             ],
             [
              0.8888888888888888,
              "#fdca26"
             ],
             [
              1,
              "#f0f921"
             ]
            ],
            "type": "histogram2d"
           }
          ],
          "histogram2dcontour": [
           {
            "colorbar": {
             "outlinewidth": 0,
             "ticks": ""
            },
            "colorscale": [
             [
              0,
              "#0d0887"
             ],
             [
              0.1111111111111111,
              "#46039f"
             ],
             [
              0.2222222222222222,
              "#7201a8"
             ],
             [
              0.3333333333333333,
              "#9c179e"
             ],
             [
              0.4444444444444444,
              "#bd3786"
             ],
             [
              0.5555555555555556,
              "#d8576b"
             ],
             [
              0.6666666666666666,
              "#ed7953"
             ],
             [
              0.7777777777777778,
              "#fb9f3a"
             ],
             [
              0.8888888888888888,
              "#fdca26"
             ],
             [
              1,
              "#f0f921"
             ]
            ],
            "type": "histogram2dcontour"
           }
          ],
          "mesh3d": [
           {
            "colorbar": {
             "outlinewidth": 0,
             "ticks": ""
            },
            "type": "mesh3d"
           }
          ],
          "parcoords": [
           {
            "line": {
             "colorbar": {
              "outlinewidth": 0,
              "ticks": ""
             }
            },
            "type": "parcoords"
           }
          ],
          "pie": [
           {
            "automargin": true,
            "type": "pie"
           }
          ],
          "scatter": [
           {
            "fillpattern": {
             "fillmode": "overlay",
             "size": 10,
             "solidity": 0.2
            },
            "type": "scatter"
           }
          ],
          "scatter3d": [
           {
            "line": {
             "colorbar": {
              "outlinewidth": 0,
              "ticks": ""
             }
            },
            "marker": {
             "colorbar": {
              "outlinewidth": 0,
              "ticks": ""
             }
            },
            "type": "scatter3d"
           }
          ],
          "scattercarpet": [
           {
            "marker": {
             "colorbar": {
              "outlinewidth": 0,
              "ticks": ""
             }
            },
            "type": "scattercarpet"
           }
          ],
          "scattergeo": [
           {
            "marker": {
             "colorbar": {
              "outlinewidth": 0,
              "ticks": ""
             }
            },
            "type": "scattergeo"
           }
          ],
          "scattergl": [
           {
            "marker": {
             "colorbar": {
              "outlinewidth": 0,
              "ticks": ""
             }
            },
            "type": "scattergl"
           }
          ],
          "scattermap": [
           {
            "marker": {
             "colorbar": {
              "outlinewidth": 0,
              "ticks": ""
             }
            },
            "type": "scattermap"
           }
          ],
          "scattermapbox": [
           {
            "marker": {
             "colorbar": {
              "outlinewidth": 0,
              "ticks": ""
             }
            },
            "type": "scattermapbox"
           }
          ],
          "scatterpolar": [
           {
            "marker": {
             "colorbar": {
              "outlinewidth": 0,
              "ticks": ""
             }
            },
            "type": "scatterpolar"
           }
          ],
          "scatterpolargl": [
           {
            "marker": {
             "colorbar": {
              "outlinewidth": 0,
              "ticks": ""
             }
            },
            "type": "scatterpolargl"
           }
          ],
          "scatterternary": [
           {
            "marker": {
             "colorbar": {
              "outlinewidth": 0,
              "ticks": ""
             }
            },
            "type": "scatterternary"
           }
          ],
          "surface": [
           {
            "colorbar": {
             "outlinewidth": 0,
             "ticks": ""
            },
            "colorscale": [
             [
              0,
              "#0d0887"
             ],
             [
              0.1111111111111111,
              "#46039f"
             ],
             [
              0.2222222222222222,
              "#7201a8"
             ],
             [
              0.3333333333333333,
              "#9c179e"
             ],
             [
              0.4444444444444444,
              "#bd3786"
             ],
             [
              0.5555555555555556,
              "#d8576b"
             ],
             [
              0.6666666666666666,
              "#ed7953"
             ],
             [
              0.7777777777777778,
              "#fb9f3a"
             ],
             [
              0.8888888888888888,
              "#fdca26"
             ],
             [
              1,
              "#f0f921"
             ]
            ],
            "type": "surface"
           }
          ],
          "table": [
           {
            "cells": {
             "fill": {
              "color": "#EBF0F8"
             },
             "line": {
              "color": "white"
             }
            },
            "header": {
             "fill": {
              "color": "#C8D4E3"
             },
             "line": {
              "color": "white"
             }
            },
            "type": "table"
           }
          ]
         },
         "layout": {
          "annotationdefaults": {
           "arrowcolor": "#2a3f5f",
           "arrowhead": 0,
           "arrowwidth": 1
          },
          "autotypenumbers": "strict",
          "coloraxis": {
           "colorbar": {
            "outlinewidth": 0,
            "ticks": ""
           }
          },
          "colorscale": {
           "diverging": [
            [
             0,
             "#8e0152"
            ],
            [
             0.1,
             "#c51b7d"
            ],
            [
             0.2,
             "#de77ae"
            ],
            [
             0.3,
             "#f1b6da"
            ],
            [
             0.4,
             "#fde0ef"
            ],
            [
             0.5,
             "#f7f7f7"
            ],
            [
             0.6,
             "#e6f5d0"
            ],
            [
             0.7,
             "#b8e186"
            ],
            [
             0.8,
             "#7fbc41"
            ],
            [
             0.9,
             "#4d9221"
            ],
            [
             1,
             "#276419"
            ]
           ],
           "sequential": [
            [
             0,
             "#0d0887"
            ],
            [
             0.1111111111111111,
             "#46039f"
            ],
            [
             0.2222222222222222,
             "#7201a8"
            ],
            [
             0.3333333333333333,
             "#9c179e"
            ],
            [
             0.4444444444444444,
             "#bd3786"
            ],
            [
             0.5555555555555556,
             "#d8576b"
            ],
            [
             0.6666666666666666,
             "#ed7953"
            ],
            [
             0.7777777777777778,
             "#fb9f3a"
            ],
            [
             0.8888888888888888,
             "#fdca26"
            ],
            [
             1,
             "#f0f921"
            ]
           ],
           "sequentialminus": [
            [
             0,
             "#0d0887"
            ],
            [
             0.1111111111111111,
             "#46039f"
            ],
            [
             0.2222222222222222,
             "#7201a8"
            ],
            [
             0.3333333333333333,
             "#9c179e"
            ],
            [
             0.4444444444444444,
             "#bd3786"
            ],
            [
             0.5555555555555556,
             "#d8576b"
            ],
            [
             0.6666666666666666,
             "#ed7953"
            ],
            [
             0.7777777777777778,
             "#fb9f3a"
            ],
            [
             0.8888888888888888,
             "#fdca26"
            ],
            [
             1,
             "#f0f921"
            ]
           ]
          },
          "colorway": [
           "#636efa",
           "#EF553B",
           "#00cc96",
           "#ab63fa",
           "#FFA15A",
           "#19d3f3",
           "#FF6692",
           "#B6E880",
           "#FF97FF",
           "#FECB52"
          ],
          "font": {
           "color": "#2a3f5f"
          },
          "geo": {
           "bgcolor": "white",
           "lakecolor": "white",
           "landcolor": "#E5ECF6",
           "showlakes": true,
           "showland": true,
           "subunitcolor": "white"
          },
          "hoverlabel": {
           "align": "left"
          },
          "hovermode": "closest",
          "mapbox": {
           "style": "light"
          },
          "paper_bgcolor": "white",
          "plot_bgcolor": "#E5ECF6",
          "polar": {
           "angularaxis": {
            "gridcolor": "white",
            "linecolor": "white",
            "ticks": ""
           },
           "bgcolor": "#E5ECF6",
           "radialaxis": {
            "gridcolor": "white",
            "linecolor": "white",
            "ticks": ""
           }
          },
          "scene": {
           "xaxis": {
            "backgroundcolor": "#E5ECF6",
            "gridcolor": "white",
            "gridwidth": 2,
            "linecolor": "white",
            "showbackground": true,
            "ticks": "",
            "zerolinecolor": "white"
           },
           "yaxis": {
            "backgroundcolor": "#E5ECF6",
            "gridcolor": "white",
            "gridwidth": 2,
            "linecolor": "white",
            "showbackground": true,
            "ticks": "",
            "zerolinecolor": "white"
           },
           "zaxis": {
            "backgroundcolor": "#E5ECF6",
            "gridcolor": "white",
            "gridwidth": 2,
            "linecolor": "white",
            "showbackground": true,
            "ticks": "",
            "zerolinecolor": "white"
           }
          },
          "shapedefaults": {
           "line": {
            "color": "#2a3f5f"
           }
          },
          "ternary": {
           "aaxis": {
            "gridcolor": "white",
            "linecolor": "white",
            "ticks": ""
           },
           "baxis": {
            "gridcolor": "white",
            "linecolor": "white",
            "ticks": ""
           },
           "bgcolor": "#E5ECF6",
           "caxis": {
            "gridcolor": "white",
            "linecolor": "white",
            "ticks": ""
           }
          },
          "title": {
           "x": 0.05
          },
          "xaxis": {
           "automargin": true,
           "gridcolor": "white",
           "linecolor": "white",
           "ticks": "",
           "title": {
            "standoff": 15
           },
           "zerolinecolor": "white",
           "zerolinewidth": 2
          },
          "yaxis": {
           "automargin": true,
           "gridcolor": "white",
           "linecolor": "white",
           "ticks": "",
           "title": {
            "standoff": 15
           },
           "zerolinecolor": "white",
           "zerolinewidth": 2
          }
         }
        },
        "title": {
         "font": {
          "size": 28
         },
         "text": "Share of the population using the Internet, 2023",
         "x": 0.012,
         "xanchor": "left"
        },
        "width": 1300,
        "xaxis": {
         "anchor": "y",
         "domain": [
          0,
          1
         ],
         "title": {}
        },
        "yaxis": {
         "anchor": "x",
         "categoryarray": [
          "Sub-Saharan Africa (WB)",
          "South Asia (WB)",
          "World",
          "Middle East and North Africa (WB)",
          "East Asia and Pacific (WB)",
          "Latin America and Caribbean (WB)",
          "Europe and Central Asia (WB)",
          "North America (WB)"
         ],
         "categoryorder": "array",
         "domain": [
          0,
          1
         ],
         "tickfont": {
          "size": 20
         },
         "title": {}
        }
       }
      }
     },
     "metadata": {},
     "output_type": "display_data"
    }
   ],
   "source": [
    "fig = px.bar(\n",
    "    dfall,\n",
    "    x=\"Individuals using the Internet (% of population)\",\n",
    "    y=\"Entity\",\n",
    "    title=\"Share of the population using the Internet, 2023\",\n",
    "    color=\"Entity\",\n",
    ")\n",
    "\n",
    "fig.add_annotation(\n",
    "    text=\"Share of the population who used the Internet in the last three months.\",\n",
    "    xref=\"paper\",\n",
    "    yref=\"paper\",\n",
    "    x=-0.407,\n",
    "    y=1.07,\n",
    "    showarrow=False,\n",
    "    font=dict(size=16),\n",
    ")\n",
    "\n",
    "fig.add_annotation(\n",
    "    text=\"in 2021\",\n",
    "    xref=\"paper\",\n",
    "    yref=\"paper\",\n",
    "    x=0.507,\n",
    "    y=0.1701,\n",
    "    showarrow=False,\n",
    "    font=dict(size=14, color=\"lightgrey\"),\n",
    ")\n",
    "\n",
    "fig.update_traces(\n",
    "    marker_color=\"blueviolet\", textposition=\"outside\", texttemplate=\"%{x:.1f}%\", width=0.6\n",
    ")\n",
    "\n",
    "fig.update_layout(\n",
    "    title={\n",
    "        'text': \"Share of the population using the Internet, 2023\",\n",
    "        'x': 0.012,\n",
    "        'xanchor': 'left',\n",
    "        'font': dict(size=28)\n",
    "    },\n",
    "    xaxis_title=None,\n",
    "    yaxis_title=None,\n",
    "    yaxis=dict(tickfont=dict(size=20)),\n",
    "    plot_bgcolor=\"white\",\n",
    "    # title_font_size=28,\n",
    "    showlegend=False,\n",
    "    width=1300,\n",
    "    height=800,\n",
    ")\n",
    "fig.show()"
   ]
  }
 ],
 "metadata": {
  "kernelspec": {
   "display_name": ".venv",
   "language": "python",
   "name": "python3"
  },
  "language_info": {
   "codemirror_mode": {
    "name": "ipython",
    "version": 3
   },
   "file_extension": ".py",
   "mimetype": "text/x-python",
   "name": "python",
   "nbconvert_exporter": "python",
   "pygments_lexer": "ipython3",
   "version": "3.12.6"
  }
 },
 "nbformat": 4,
 "nbformat_minor": 5
}
