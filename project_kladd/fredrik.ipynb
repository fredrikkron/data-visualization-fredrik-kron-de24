{
 "cells": [
  {
   "cell_type": "markdown",
   "id": "d4253818",
   "metadata": {},
   "source": [
    "# **Fredrik EDA**"
   ]
  },
  {
   "cell_type": "code",
   "execution_count": 153,
   "id": "f7aa0500",
   "metadata": {},
   "outputs": [
    {
     "data": {
      "text/html": [
       "<div>\n",
       "<style scoped>\n",
       "    .dataframe tbody tr th:only-of-type {\n",
       "        vertical-align: middle;\n",
       "    }\n",
       "\n",
       "    .dataframe tbody tr th {\n",
       "        vertical-align: top;\n",
       "    }\n",
       "\n",
       "    .dataframe thead th {\n",
       "        text-align: right;\n",
       "    }\n",
       "</style>\n",
       "<table border=\"1\" class=\"dataframe\">\n",
       "  <thead>\n",
       "    <tr style=\"text-align: right;\">\n",
       "      <th></th>\n",
       "      <th>Diarienummer</th>\n",
       "      <th>Beslut</th>\n",
       "      <th>Anordnare namn</th>\n",
       "      <th>Utbildningsnamn</th>\n",
       "      <th>Utbildningsområde</th>\n",
       "      <th>Antal beviljade platser start 2024</th>\n",
       "      <th>Antal beviljade platser start och slut 2024</th>\n",
       "      <th>Antal beviljade platser start 2025</th>\n",
       "      <th>Totalt antal beviljade platser</th>\n",
       "      <th>YH-poäng</th>\n",
       "      <th>Kommun</th>\n",
       "      <th>Län</th>\n",
       "      <th>FA-region</th>\n",
       "      <th>Antal kommuner</th>\n",
       "      <th>Antal län</th>\n",
       "      <th>Antal FA-regioner</th>\n",
       "    </tr>\n",
       "  </thead>\n",
       "  <tbody>\n",
       "    <tr>\n",
       "      <th>0</th>\n",
       "      <td>MYH 2024/1000</td>\n",
       "      <td>Avslag</td>\n",
       "      <td>Changemaker Educations AB</td>\n",
       "      <td>Futuregames Accessible Game Production</td>\n",
       "      <td>Juridik</td>\n",
       "      <td>0</td>\n",
       "      <td>0</td>\n",
       "      <td>0</td>\n",
       "      <td>0</td>\n",
       "      <td>25</td>\n",
       "      <td>Se \"Lista flera kommuner\"</td>\n",
       "      <td>Se \"Lista flera kommuner\"</td>\n",
       "      <td>Se \"Lista flera kommuner\"</td>\n",
       "      <td>3</td>\n",
       "      <td>3</td>\n",
       "      <td>3</td>\n",
       "    </tr>\n",
       "    <tr>\n",
       "      <th>1</th>\n",
       "      <td>MYH 2024/1001</td>\n",
       "      <td>Avslag</td>\n",
       "      <td>Changemaker Educations AB</td>\n",
       "      <td>Futuregames Inclusive Game Development</td>\n",
       "      <td>Ekonomi, administration och försäljning</td>\n",
       "      <td>0</td>\n",
       "      <td>0</td>\n",
       "      <td>0</td>\n",
       "      <td>0</td>\n",
       "      <td>25</td>\n",
       "      <td>Se \"Lista flera kommuner\"</td>\n",
       "      <td>Se \"Lista flera kommuner\"</td>\n",
       "      <td>Se \"Lista flera kommuner\"</td>\n",
       "      <td>3</td>\n",
       "      <td>3</td>\n",
       "      <td>3</td>\n",
       "    </tr>\n",
       "    <tr>\n",
       "      <th>2</th>\n",
       "      <td>MYH 2024/1002</td>\n",
       "      <td>Avslag</td>\n",
       "      <td>Båstads kommun Akademi Båstad</td>\n",
       "      <td>Ekosystemtjänster i praktiken</td>\n",
       "      <td>Lantbruk, djurvård, trädgård, skog och fiske</td>\n",
       "      <td>0</td>\n",
       "      <td>0</td>\n",
       "      <td>0</td>\n",
       "      <td>0</td>\n",
       "      <td>50</td>\n",
       "      <td>Båstad</td>\n",
       "      <td>Skåne</td>\n",
       "      <td>Malmö-Lund</td>\n",
       "      <td>1</td>\n",
       "      <td>1</td>\n",
       "      <td>1</td>\n",
       "    </tr>\n",
       "    <tr>\n",
       "      <th>3</th>\n",
       "      <td>MYH 2024/1003</td>\n",
       "      <td>Avslag</td>\n",
       "      <td>Båstads kommun Akademi Båstad</td>\n",
       "      <td>Hållbar dagvattenhantering i praktiken</td>\n",
       "      <td>Lantbruk, djurvård, trädgård, skog och fiske</td>\n",
       "      <td>0</td>\n",
       "      <td>0</td>\n",
       "      <td>0</td>\n",
       "      <td>0</td>\n",
       "      <td>50</td>\n",
       "      <td>Båstad</td>\n",
       "      <td>Skåne</td>\n",
       "      <td>Malmö-Lund</td>\n",
       "      <td>1</td>\n",
       "      <td>1</td>\n",
       "      <td>1</td>\n",
       "    </tr>\n",
       "    <tr>\n",
       "      <th>4</th>\n",
       "      <td>MYH 2024/1004</td>\n",
       "      <td>Avslag</td>\n",
       "      <td>Båstads kommun Akademi Båstad</td>\n",
       "      <td>Invasiva växter i utemiljöer</td>\n",
       "      <td>Lantbruk, djurvård, trädgård, skog och fiske</td>\n",
       "      <td>0</td>\n",
       "      <td>0</td>\n",
       "      <td>0</td>\n",
       "      <td>0</td>\n",
       "      <td>25</td>\n",
       "      <td>Båstad</td>\n",
       "      <td>Skåne</td>\n",
       "      <td>Malmö-Lund</td>\n",
       "      <td>1</td>\n",
       "      <td>1</td>\n",
       "      <td>1</td>\n",
       "    </tr>\n",
       "  </tbody>\n",
       "</table>\n",
       "</div>"
      ],
      "text/plain": [
       "    Diarienummer  Beslut                 Anordnare namn  \\\n",
       "0  MYH 2024/1000  Avslag      Changemaker Educations AB   \n",
       "1  MYH 2024/1001  Avslag      Changemaker Educations AB   \n",
       "2  MYH 2024/1002  Avslag  Båstads kommun Akademi Båstad   \n",
       "3  MYH 2024/1003  Avslag  Båstads kommun Akademi Båstad   \n",
       "4  MYH 2024/1004  Avslag  Båstads kommun Akademi Båstad   \n",
       "\n",
       "                           Utbildningsnamn  \\\n",
       "0  Futuregames Accessible Game Production    \n",
       "1   Futuregames Inclusive Game Development   \n",
       "2            Ekosystemtjänster i praktiken   \n",
       "3   Hållbar dagvattenhantering i praktiken   \n",
       "4             Invasiva växter i utemiljöer   \n",
       "\n",
       "                              Utbildningsområde  \\\n",
       "0                                       Juridik   \n",
       "1       Ekonomi, administration och försäljning   \n",
       "2  Lantbruk, djurvård, trädgård, skog och fiske   \n",
       "3  Lantbruk, djurvård, trädgård, skog och fiske   \n",
       "4  Lantbruk, djurvård, trädgård, skog och fiske   \n",
       "\n",
       "   Antal beviljade platser start 2024  \\\n",
       "0                                   0   \n",
       "1                                   0   \n",
       "2                                   0   \n",
       "3                                   0   \n",
       "4                                   0   \n",
       "\n",
       "   Antal beviljade platser start och slut 2024  \\\n",
       "0                                            0   \n",
       "1                                            0   \n",
       "2                                            0   \n",
       "3                                            0   \n",
       "4                                            0   \n",
       "\n",
       "   Antal beviljade platser start 2025  Totalt antal beviljade platser  \\\n",
       "0                                   0                               0   \n",
       "1                                   0                               0   \n",
       "2                                   0                               0   \n",
       "3                                   0                               0   \n",
       "4                                   0                               0   \n",
       "\n",
       "   YH-poäng                     Kommun                        Län  \\\n",
       "0        25  Se \"Lista flera kommuner\"  Se \"Lista flera kommuner\"   \n",
       "1        25  Se \"Lista flera kommuner\"  Se \"Lista flera kommuner\"   \n",
       "2        50                     Båstad                      Skåne   \n",
       "3        50                     Båstad                      Skåne   \n",
       "4        25                     Båstad                      Skåne   \n",
       "\n",
       "                   FA-region  Antal kommuner  Antal län  Antal FA-regioner  \n",
       "0  Se \"Lista flera kommuner\"               3          3                  3  \n",
       "1  Se \"Lista flera kommuner\"               3          3                  3  \n",
       "2                 Malmö-Lund               1          1                  1  \n",
       "3                 Malmö-Lund               1          1                  1  \n",
       "4                 Malmö-Lund               1          1                  1  "
      ]
     },
     "execution_count": 153,
     "metadata": {},
     "output_type": "execute_result"
    }
   ],
   "source": [
    "import pandas as pd\n",
    "\n",
    "df = pd.read_excel(\"data/resultat-2024-for-kurser-inom-yh.xlsx\", sheet_name=\"Lista ansökningar\")\n",
    "\n",
    "df.head()"
   ]
  },
  {
   "cell_type": "code",
   "execution_count": 154,
   "id": "14e16a2c",
   "metadata": {},
   "outputs": [
    {
     "name": "stdout",
     "output_type": "stream",
     "text": [
      "<class 'pandas.core.frame.DataFrame'>\n",
      "RangeIndex: 880 entries, 0 to 879\n",
      "Data columns (total 16 columns):\n",
      " #   Column                                       Non-Null Count  Dtype \n",
      "---  ------                                       --------------  ----- \n",
      " 0   Diarienummer                                 880 non-null    object\n",
      " 1   Beslut                                       880 non-null    object\n",
      " 2   Anordnare namn                               880 non-null    object\n",
      " 3   Utbildningsnamn                              880 non-null    object\n",
      " 4   Utbildningsområde                            880 non-null    object\n",
      " 5   Antal beviljade platser start 2024           880 non-null    int64 \n",
      " 6   Antal beviljade platser start och slut 2024  880 non-null    int64 \n",
      " 7   Antal beviljade platser start 2025           880 non-null    int64 \n",
      " 8   Totalt antal beviljade platser               880 non-null    int64 \n",
      " 9   YH-poäng                                     880 non-null    int64 \n",
      " 10  Kommun                                       880 non-null    object\n",
      " 11  Län                                          880 non-null    object\n",
      " 12  FA-region                                    880 non-null    object\n",
      " 13  Antal kommuner                               880 non-null    int64 \n",
      " 14  Antal län                                    880 non-null    int64 \n",
      " 15  Antal FA-regioner                            880 non-null    int64 \n",
      "dtypes: int64(8), object(8)\n",
      "memory usage: 110.1+ KB\n"
     ]
    }
   ],
   "source": [
    "df.info()"
   ]
  },
  {
   "cell_type": "code",
   "execution_count": 155,
   "id": "cfb65ea4",
   "metadata": {},
   "outputs": [
    {
     "data": {
      "text/html": [
       "<div>\n",
       "<style scoped>\n",
       "    .dataframe tbody tr th:only-of-type {\n",
       "        vertical-align: middle;\n",
       "    }\n",
       "\n",
       "    .dataframe tbody tr th {\n",
       "        vertical-align: top;\n",
       "    }\n",
       "\n",
       "    .dataframe thead th {\n",
       "        text-align: right;\n",
       "    }\n",
       "</style>\n",
       "<table border=\"1\" class=\"dataframe\">\n",
       "  <thead>\n",
       "    <tr style=\"text-align: right;\">\n",
       "      <th></th>\n",
       "      <th>Diarienummer</th>\n",
       "      <th>Beslut</th>\n",
       "      <th>Anordnare namn</th>\n",
       "      <th>Utbildningsnamn</th>\n",
       "      <th>Utbildningsområde</th>\n",
       "      <th>Antal beviljade platser start 2024</th>\n",
       "      <th>Antal beviljade platser start och slut 2024</th>\n",
       "      <th>Antal beviljade platser start 2025</th>\n",
       "      <th>Totalt antal beviljade platser</th>\n",
       "      <th>YH-poäng</th>\n",
       "      <th>Kommun</th>\n",
       "      <th>Län</th>\n",
       "      <th>FA-region</th>\n",
       "      <th>Antal kommuner</th>\n",
       "      <th>Antal län</th>\n",
       "      <th>Antal FA-regioner</th>\n",
       "    </tr>\n",
       "  </thead>\n",
       "  <tbody>\n",
       "    <tr>\n",
       "      <th>0</th>\n",
       "      <td>MYH 2024/1000</td>\n",
       "      <td>Avslag</td>\n",
       "      <td>Changemaker Educations AB</td>\n",
       "      <td>Futuregames Accessible Game Production</td>\n",
       "      <td>Juridik</td>\n",
       "      <td>0</td>\n",
       "      <td>0</td>\n",
       "      <td>0</td>\n",
       "      <td>0</td>\n",
       "      <td>25</td>\n",
       "      <td>Se \"Lista flera kommuner\"</td>\n",
       "      <td>Se \"Lista flera kommuner\"</td>\n",
       "      <td>Se \"Lista flera kommuner\"</td>\n",
       "      <td>3</td>\n",
       "      <td>3</td>\n",
       "      <td>3</td>\n",
       "    </tr>\n",
       "    <tr>\n",
       "      <th>1</th>\n",
       "      <td>MYH 2024/1001</td>\n",
       "      <td>Avslag</td>\n",
       "      <td>Changemaker Educations AB</td>\n",
       "      <td>Futuregames Inclusive Game Development</td>\n",
       "      <td>Ekonomi, administration och försäljning</td>\n",
       "      <td>0</td>\n",
       "      <td>0</td>\n",
       "      <td>0</td>\n",
       "      <td>0</td>\n",
       "      <td>25</td>\n",
       "      <td>Se \"Lista flera kommuner\"</td>\n",
       "      <td>Se \"Lista flera kommuner\"</td>\n",
       "      <td>Se \"Lista flera kommuner\"</td>\n",
       "      <td>3</td>\n",
       "      <td>3</td>\n",
       "      <td>3</td>\n",
       "    </tr>\n",
       "    <tr>\n",
       "      <th>2</th>\n",
       "      <td>MYH 2024/1002</td>\n",
       "      <td>Avslag</td>\n",
       "      <td>Båstads kommun Akademi Båstad</td>\n",
       "      <td>Ekosystemtjänster i praktiken</td>\n",
       "      <td>Lantbruk, djurvård, trädgård, skog och fiske</td>\n",
       "      <td>0</td>\n",
       "      <td>0</td>\n",
       "      <td>0</td>\n",
       "      <td>0</td>\n",
       "      <td>50</td>\n",
       "      <td>Båstad</td>\n",
       "      <td>Skåne</td>\n",
       "      <td>Malmö-Lund</td>\n",
       "      <td>1</td>\n",
       "      <td>1</td>\n",
       "      <td>1</td>\n",
       "    </tr>\n",
       "    <tr>\n",
       "      <th>3</th>\n",
       "      <td>MYH 2024/1003</td>\n",
       "      <td>Avslag</td>\n",
       "      <td>Båstads kommun Akademi Båstad</td>\n",
       "      <td>Hållbar dagvattenhantering i praktiken</td>\n",
       "      <td>Lantbruk, djurvård, trädgård, skog och fiske</td>\n",
       "      <td>0</td>\n",
       "      <td>0</td>\n",
       "      <td>0</td>\n",
       "      <td>0</td>\n",
       "      <td>50</td>\n",
       "      <td>Båstad</td>\n",
       "      <td>Skåne</td>\n",
       "      <td>Malmö-Lund</td>\n",
       "      <td>1</td>\n",
       "      <td>1</td>\n",
       "      <td>1</td>\n",
       "    </tr>\n",
       "    <tr>\n",
       "      <th>4</th>\n",
       "      <td>MYH 2024/1004</td>\n",
       "      <td>Avslag</td>\n",
       "      <td>Båstads kommun Akademi Båstad</td>\n",
       "      <td>Invasiva växter i utemiljöer</td>\n",
       "      <td>Lantbruk, djurvård, trädgård, skog och fiske</td>\n",
       "      <td>0</td>\n",
       "      <td>0</td>\n",
       "      <td>0</td>\n",
       "      <td>0</td>\n",
       "      <td>25</td>\n",
       "      <td>Båstad</td>\n",
       "      <td>Skåne</td>\n",
       "      <td>Malmö-Lund</td>\n",
       "      <td>1</td>\n",
       "      <td>1</td>\n",
       "      <td>1</td>\n",
       "    </tr>\n",
       "  </tbody>\n",
       "</table>\n",
       "</div>"
      ],
      "text/plain": [
       "    Diarienummer  Beslut                 Anordnare namn  \\\n",
       "0  MYH 2024/1000  Avslag      Changemaker Educations AB   \n",
       "1  MYH 2024/1001  Avslag      Changemaker Educations AB   \n",
       "2  MYH 2024/1002  Avslag  Båstads kommun Akademi Båstad   \n",
       "3  MYH 2024/1003  Avslag  Båstads kommun Akademi Båstad   \n",
       "4  MYH 2024/1004  Avslag  Båstads kommun Akademi Båstad   \n",
       "\n",
       "                           Utbildningsnamn  \\\n",
       "0  Futuregames Accessible Game Production    \n",
       "1   Futuregames Inclusive Game Development   \n",
       "2            Ekosystemtjänster i praktiken   \n",
       "3   Hållbar dagvattenhantering i praktiken   \n",
       "4             Invasiva växter i utemiljöer   \n",
       "\n",
       "                              Utbildningsområde  \\\n",
       "0                                       Juridik   \n",
       "1       Ekonomi, administration och försäljning   \n",
       "2  Lantbruk, djurvård, trädgård, skog och fiske   \n",
       "3  Lantbruk, djurvård, trädgård, skog och fiske   \n",
       "4  Lantbruk, djurvård, trädgård, skog och fiske   \n",
       "\n",
       "   Antal beviljade platser start 2024  \\\n",
       "0                                   0   \n",
       "1                                   0   \n",
       "2                                   0   \n",
       "3                                   0   \n",
       "4                                   0   \n",
       "\n",
       "   Antal beviljade platser start och slut 2024  \\\n",
       "0                                            0   \n",
       "1                                            0   \n",
       "2                                            0   \n",
       "3                                            0   \n",
       "4                                            0   \n",
       "\n",
       "   Antal beviljade platser start 2025  Totalt antal beviljade platser  \\\n",
       "0                                   0                               0   \n",
       "1                                   0                               0   \n",
       "2                                   0                               0   \n",
       "3                                   0                               0   \n",
       "4                                   0                               0   \n",
       "\n",
       "   YH-poäng                     Kommun                        Län  \\\n",
       "0        25  Se \"Lista flera kommuner\"  Se \"Lista flera kommuner\"   \n",
       "1        25  Se \"Lista flera kommuner\"  Se \"Lista flera kommuner\"   \n",
       "2        50                     Båstad                      Skåne   \n",
       "3        50                     Båstad                      Skåne   \n",
       "4        25                     Båstad                      Skåne   \n",
       "\n",
       "                   FA-region  Antal kommuner  Antal län  Antal FA-regioner  \n",
       "0  Se \"Lista flera kommuner\"               3          3                  3  \n",
       "1  Se \"Lista flera kommuner\"               3          3                  3  \n",
       "2                 Malmö-Lund               1          1                  1  \n",
       "3                 Malmö-Lund               1          1                  1  \n",
       "4                 Malmö-Lund               1          1                  1  "
      ]
     },
     "execution_count": 155,
     "metadata": {},
     "output_type": "execute_result"
    }
   ],
   "source": [
    "df_courses = df.copy()\n",
    "df_courses.head()"
   ]
  },
  {
   "cell_type": "code",
   "execution_count": 156,
   "id": "125ce9ee",
   "metadata": {},
   "outputs": [
    {
     "data": {
      "text/plain": [
       "Utbildningsområde\n",
       "Ekonomi, administration och försäljning         221\n",
       "Data/IT                                         157\n",
       "Teknik och tillverkning                         121\n",
       "Hälso- och sjukvård samt socialt arbete         109\n",
       "Samhällsbyggnad och byggteknik                  105\n",
       "Lantbruk, djurvård, trädgård, skog och fiske     38\n",
       "Pedagogik och undervisning                       30\n",
       "Hotell, restaurang och turism                    24\n",
       "Säkerhetstjänster                                19\n",
       "Juridik                                          18\n",
       "Kultur, media och design                         18\n",
       "Journalistik och information                     14\n",
       "Transporttjänster                                 4\n",
       "Friskvård och kroppsvård                          2\n",
       "Name: count, dtype: int64"
      ]
     },
     "execution_count": 156,
     "metadata": {},
     "output_type": "execute_result"
    }
   ],
   "source": [
    "df_courses[\"Utbildningsområde\"].value_counts()"
   ]
  },
  {
   "cell_type": "markdown",
   "id": "31eaaeaa",
   "metadata": {},
   "source": [
    "# Potentiella KPI"
   ]
  },
  {
   "cell_type": "code",
   "execution_count": 157,
   "id": "1259e80d",
   "metadata": {},
   "outputs": [
    {
     "data": {
      "text/html": [
       "<div>\n",
       "<style scoped>\n",
       "    .dataframe tbody tr th:only-of-type {\n",
       "        vertical-align: middle;\n",
       "    }\n",
       "\n",
       "    .dataframe tbody tr th {\n",
       "        vertical-align: top;\n",
       "    }\n",
       "\n",
       "    .dataframe thead th {\n",
       "        text-align: right;\n",
       "    }\n",
       "</style>\n",
       "<table border=\"1\" class=\"dataframe\">\n",
       "  <thead>\n",
       "    <tr style=\"text-align: right;\">\n",
       "      <th></th>\n",
       "      <th>Beslut</th>\n",
       "      <th>Antal kursansökningar</th>\n",
       "    </tr>\n",
       "  </thead>\n",
       "  <tbody>\n",
       "    <tr>\n",
       "      <th>0</th>\n",
       "      <td>Beviljad</td>\n",
       "      <td>451</td>\n",
       "    </tr>\n",
       "    <tr>\n",
       "      <th>1</th>\n",
       "      <td>Avslag</td>\n",
       "      <td>429</td>\n",
       "    </tr>\n",
       "  </tbody>\n",
       "</table>\n",
       "</div>"
      ],
      "text/plain": [
       "     Beslut  Antal kursansökningar\n",
       "0  Beviljad                    451\n",
       "1    Avslag                    429"
      ]
     },
     "execution_count": 157,
     "metadata": {},
     "output_type": "execute_result"
    }
   ],
   "source": [
    "import duckdb\n",
    "\n",
    "# Antal beviljade/avslag av kurser i Sverige 2024\n",
    "\n",
    "approved_courses = duckdb.query(\n",
    "    \"\"\"--sql\n",
    "    SELECT\n",
    "        Beslut,\n",
    "        COUNT(*) AS \"Antal kursansökningar\"\n",
    "    FROM\n",
    "        df_courses\n",
    "    GROUP BY Beslut\n",
    "\"\"\"\n",
    ").df()\n",
    "\n",
    "approved_courses"
   ]
  },
  {
   "cell_type": "code",
   "execution_count": 158,
   "id": "46fbc55e",
   "metadata": {},
   "outputs": [
    {
     "data": {
      "text/plain": [
       "'51.25%'"
      ]
     },
     "execution_count": 158,
     "metadata": {},
     "output_type": "execute_result"
    }
   ],
   "source": [
    "# Procentuellt antal beviljade\n",
    "\n",
    "all_courses = len(df_courses)\n",
    "# all_courses -- 880\n",
    "approved = len(df_courses[df_courses[\"Beslut\"] == \"Beviljad\"])\n",
    "# approved -- 451\n",
    "\n",
    "percent_approved = (approved / all_courses) * 100\n",
    "f\"{percent_approved:.2f}%\"\n"
   ]
  },
  {
   "cell_type": "markdown",
   "id": "a216ed41",
   "metadata": {},
   "source": [
    "# Beviljade ansökningar per skola"
   ]
  },
  {
   "cell_type": "code",
   "execution_count": 159,
   "id": "b61e6c0e",
   "metadata": {},
   "outputs": [
    {
     "data": {
      "text/html": [
       "<div>\n",
       "<style scoped>\n",
       "    .dataframe tbody tr th:only-of-type {\n",
       "        vertical-align: middle;\n",
       "    }\n",
       "\n",
       "    .dataframe tbody tr th {\n",
       "        vertical-align: top;\n",
       "    }\n",
       "\n",
       "    .dataframe thead th {\n",
       "        text-align: right;\n",
       "    }\n",
       "</style>\n",
       "<table border=\"1\" class=\"dataframe\">\n",
       "  <thead>\n",
       "    <tr style=\"text-align: right;\">\n",
       "      <th></th>\n",
       "      <th>Ansökta kurser</th>\n",
       "      <th>Antal beviljade</th>\n",
       "      <th>Beviljandegrad %</th>\n",
       "    </tr>\n",
       "    <tr>\n",
       "      <th>Anordnare</th>\n",
       "      <th></th>\n",
       "      <th></th>\n",
       "      <th></th>\n",
       "    </tr>\n",
       "  </thead>\n",
       "  <tbody>\n",
       "    <tr>\n",
       "      <th>YH Akademin AB</th>\n",
       "      <td>45</td>\n",
       "      <td>35</td>\n",
       "      <td>77.8</td>\n",
       "    </tr>\n",
       "    <tr>\n",
       "      <th>IHM Business School AB Göteborg</th>\n",
       "      <td>30</td>\n",
       "      <td>27</td>\n",
       "      <td>90.0</td>\n",
       "    </tr>\n",
       "    <tr>\n",
       "      <th>Medieinstitutet i Sverige AB</th>\n",
       "      <td>23</td>\n",
       "      <td>19</td>\n",
       "      <td>82.6</td>\n",
       "    </tr>\n",
       "    <tr>\n",
       "      <th>Nackademin AB</th>\n",
       "      <td>18</td>\n",
       "      <td>18</td>\n",
       "      <td>100.0</td>\n",
       "    </tr>\n",
       "    <tr>\n",
       "      <th>Göteborgs Stad, Yrgo</th>\n",
       "      <td>24</td>\n",
       "      <td>14</td>\n",
       "      <td>58.3</td>\n",
       "    </tr>\n",
       "    <tr>\n",
       "      <th>...</th>\n",
       "      <td>...</td>\n",
       "      <td>...</td>\n",
       "      <td>...</td>\n",
       "    </tr>\n",
       "    <tr>\n",
       "      <th>Folkuniversitetet - Kursverksamheten vid Stockholms universitet</th>\n",
       "      <td>1</td>\n",
       "      <td>0</td>\n",
       "      <td>0.0</td>\n",
       "    </tr>\n",
       "    <tr>\n",
       "      <th>Changemaker Educations AB</th>\n",
       "      <td>3</td>\n",
       "      <td>0</td>\n",
       "      <td>0.0</td>\n",
       "    </tr>\n",
       "    <tr>\n",
       "      <th>Köpings kommun</th>\n",
       "      <td>4</td>\n",
       "      <td>0</td>\n",
       "      <td>0.0</td>\n",
       "    </tr>\n",
       "    <tr>\n",
       "      <th>Falkenbergs kommun</th>\n",
       "      <td>1</td>\n",
       "      <td>0</td>\n",
       "      <td>0.0</td>\n",
       "    </tr>\n",
       "    <tr>\n",
       "      <th>WeWon Media Group AB</th>\n",
       "      <td>5</td>\n",
       "      <td>0</td>\n",
       "      <td>0.0</td>\n",
       "    </tr>\n",
       "  </tbody>\n",
       "</table>\n",
       "<p>166 rows × 3 columns</p>\n",
       "</div>"
      ],
      "text/plain": [
       "                                                    Ansökta kurser  \\\n",
       "Anordnare                                                            \n",
       "YH Akademin AB                                                  45   \n",
       "IHM Business School AB Göteborg                                 30   \n",
       "Medieinstitutet i Sverige AB                                    23   \n",
       "Nackademin AB                                                   18   \n",
       "Göteborgs Stad, Yrgo                                            24   \n",
       "...                                                            ...   \n",
       "Folkuniversitetet - Kursverksamheten vid Stockh...               1   \n",
       "Changemaker Educations AB                                        3   \n",
       "Köpings kommun                                                   4   \n",
       "Falkenbergs kommun                                               1   \n",
       "WeWon Media Group AB                                             5   \n",
       "\n",
       "                                                    Antal beviljade  \\\n",
       "Anordnare                                                             \n",
       "YH Akademin AB                                                   35   \n",
       "IHM Business School AB Göteborg                                  27   \n",
       "Medieinstitutet i Sverige AB                                     19   \n",
       "Nackademin AB                                                    18   \n",
       "Göteborgs Stad, Yrgo                                             14   \n",
       "...                                                             ...   \n",
       "Folkuniversitetet - Kursverksamheten vid Stockh...                0   \n",
       "Changemaker Educations AB                                         0   \n",
       "Köpings kommun                                                    0   \n",
       "Falkenbergs kommun                                                0   \n",
       "WeWon Media Group AB                                              0   \n",
       "\n",
       "                                                    Beviljandegrad %  \n",
       "Anordnare                                                             \n",
       "YH Akademin AB                                                  77.8  \n",
       "IHM Business School AB Göteborg                                 90.0  \n",
       "Medieinstitutet i Sverige AB                                    82.6  \n",
       "Nackademin AB                                                  100.0  \n",
       "Göteborgs Stad, Yrgo                                            58.3  \n",
       "...                                                              ...  \n",
       "Folkuniversitetet - Kursverksamheten vid Stockh...               0.0  \n",
       "Changemaker Educations AB                                        0.0  \n",
       "Köpings kommun                                                   0.0  \n",
       "Falkenbergs kommun                                               0.0  \n",
       "WeWon Media Group AB                                             0.0  \n",
       "\n",
       "[166 rows x 3 columns]"
      ]
     },
     "execution_count": 159,
     "metadata": {},
     "output_type": "execute_result"
    }
   ],
   "source": [
    "approval_per_school = duckdb.query(\n",
    "    \"\"\"--sql\n",
    "SELECT \n",
    "    \"Anordnare namn\" AS \"Anordnare\",\n",
    "    COUNT(*) AS \"Ansökta kurser\",\n",
    "    COUNT(*) FILTER (WHERE Beslut = 'Beviljad') AS \"Antal beviljade\",\n",
    "    ROUND(\n",
    "        COUNT(*) FILTER (WHERE Beslut = 'Beviljad') * 100.0 / COUNT(*),\n",
    "        1\n",
    "    ) AS \"Beviljandegrad %\"\n",
    "FROM df\n",
    "GROUP BY \"Anordnare namn\"\n",
    "ORDER BY \"Antal beviljade\" DESC\n",
    "\"\"\").df().set_index(\"Anordnare\")\n",
    "\n",
    "approval_per_school"
   ]
  },
  {
   "cell_type": "markdown",
   "id": "d2722f1e",
   "metadata": {},
   "source": [
    "## Visualisera de 10 skolorna med mest ansökningar och hur många de fått godkända"
   ]
  },
  {
   "cell_type": "code",
   "execution_count": 160,
   "id": "fa603201",
   "metadata": {},
   "outputs": [
    {
     "data": {
      "text/html": [
       "<div>\n",
       "<style scoped>\n",
       "    .dataframe tbody tr th:only-of-type {\n",
       "        vertical-align: middle;\n",
       "    }\n",
       "\n",
       "    .dataframe tbody tr th {\n",
       "        vertical-align: top;\n",
       "    }\n",
       "\n",
       "    .dataframe thead th {\n",
       "        text-align: right;\n",
       "    }\n",
       "</style>\n",
       "<table border=\"1\" class=\"dataframe\">\n",
       "  <thead>\n",
       "    <tr style=\"text-align: right;\">\n",
       "      <th></th>\n",
       "      <th>Anordnare</th>\n",
       "      <th>Beviljad</th>\n",
       "      <th>Avslag</th>\n",
       "      <th>Totalt</th>\n",
       "    </tr>\n",
       "  </thead>\n",
       "  <tbody>\n",
       "    <tr>\n",
       "      <th>0</th>\n",
       "      <td>YH Akademin AB</td>\n",
       "      <td>35</td>\n",
       "      <td>10</td>\n",
       "      <td>45</td>\n",
       "    </tr>\n",
       "    <tr>\n",
       "      <th>1</th>\n",
       "      <td>IHM Business School AB Göteborg</td>\n",
       "      <td>27</td>\n",
       "      <td>3</td>\n",
       "      <td>30</td>\n",
       "    </tr>\n",
       "    <tr>\n",
       "      <th>2</th>\n",
       "      <td>Göteborgs Stad, Yrgo</td>\n",
       "      <td>14</td>\n",
       "      <td>10</td>\n",
       "      <td>24</td>\n",
       "    </tr>\n",
       "    <tr>\n",
       "      <th>3</th>\n",
       "      <td>Medieinstitutet i Sverige AB</td>\n",
       "      <td>19</td>\n",
       "      <td>4</td>\n",
       "      <td>23</td>\n",
       "    </tr>\n",
       "    <tr>\n",
       "      <th>4</th>\n",
       "      <td>Grit Academy</td>\n",
       "      <td>1</td>\n",
       "      <td>18</td>\n",
       "      <td>19</td>\n",
       "    </tr>\n",
       "    <tr>\n",
       "      <th>5</th>\n",
       "      <td>Amsac AB</td>\n",
       "      <td>6</td>\n",
       "      <td>13</td>\n",
       "      <td>19</td>\n",
       "    </tr>\n",
       "    <tr>\n",
       "      <th>6</th>\n",
       "      <td>Nackademin AB</td>\n",
       "      <td>18</td>\n",
       "      <td>0</td>\n",
       "      <td>18</td>\n",
       "    </tr>\n",
       "    <tr>\n",
       "      <th>7</th>\n",
       "      <td>TUC Sweden AB - Yrkeshögskola</td>\n",
       "      <td>10</td>\n",
       "      <td>8</td>\n",
       "      <td>18</td>\n",
       "    </tr>\n",
       "    <tr>\n",
       "      <th>8</th>\n",
       "      <td>KYH AB</td>\n",
       "      <td>9</td>\n",
       "      <td>7</td>\n",
       "      <td>16</td>\n",
       "    </tr>\n",
       "    <tr>\n",
       "      <th>9</th>\n",
       "      <td>Stockholms stad, Frans Schartaus Handelsinstitut</td>\n",
       "      <td>6</td>\n",
       "      <td>10</td>\n",
       "      <td>16</td>\n",
       "    </tr>\n",
       "  </tbody>\n",
       "</table>\n",
       "</div>"
      ],
      "text/plain": [
       "                                          Anordnare  Beviljad  Avslag  Totalt\n",
       "0                                    YH Akademin AB        35      10      45\n",
       "1                   IHM Business School AB Göteborg        27       3      30\n",
       "2                              Göteborgs Stad, Yrgo        14      10      24\n",
       "3                      Medieinstitutet i Sverige AB        19       4      23\n",
       "4                                      Grit Academy         1      18      19\n",
       "5                                          Amsac AB         6      13      19\n",
       "6                                     Nackademin AB        18       0      18\n",
       "7                     TUC Sweden AB - Yrkeshögskola        10       8      18\n",
       "8                                            KYH AB         9       7      16\n",
       "9  Stockholms stad, Frans Schartaus Handelsinstitut         6      10      16"
      ]
     },
     "execution_count": 160,
     "metadata": {},
     "output_type": "execute_result"
    }
   ],
   "source": [
    "top10_schools = duckdb.query(\n",
    "    \"\"\"--sql\n",
    "SELECT \n",
    "    \"Anordnare namn\" AS Anordnare,\n",
    "    COUNT(*) FILTER (WHERE Beslut = 'Beviljad') AS Beviljad,\n",
    "    COUNT(*) FILTER (WHERE Beslut = 'Avslag') AS Avslag,\n",
    "    COUNT(*) AS Totalt\n",
    "FROM df\n",
    "GROUP BY Anordnare\n",
    "ORDER BY Totalt DESC\n",
    "LIMIT 10\n",
    "\"\"\"\n",
    ").df()\n",
    "\n",
    "top10_schools"
   ]
  },
  {
   "cell_type": "code",
   "execution_count": 161,
   "id": "154a54a2",
   "metadata": {},
   "outputs": [
    {
     "data": {
      "text/html": [
       "<div>\n",
       "<style scoped>\n",
       "    .dataframe tbody tr th:only-of-type {\n",
       "        vertical-align: middle;\n",
       "    }\n",
       "\n",
       "    .dataframe tbody tr th {\n",
       "        vertical-align: top;\n",
       "    }\n",
       "\n",
       "    .dataframe thead th {\n",
       "        text-align: right;\n",
       "    }\n",
       "</style>\n",
       "<table border=\"1\" class=\"dataframe\">\n",
       "  <thead>\n",
       "    <tr style=\"text-align: right;\">\n",
       "      <th></th>\n",
       "      <th>Anordnare</th>\n",
       "      <th>Beslut</th>\n",
       "      <th>Totala ansökningar</th>\n",
       "    </tr>\n",
       "  </thead>\n",
       "  <tbody>\n",
       "    <tr>\n",
       "      <th>0</th>\n",
       "      <td>YH Akademin AB</td>\n",
       "      <td>Beviljad</td>\n",
       "      <td>35</td>\n",
       "    </tr>\n",
       "    <tr>\n",
       "      <th>1</th>\n",
       "      <td>IHM Business School AB Göteborg</td>\n",
       "      <td>Beviljad</td>\n",
       "      <td>27</td>\n",
       "    </tr>\n",
       "    <tr>\n",
       "      <th>2</th>\n",
       "      <td>Göteborgs Stad, Yrgo</td>\n",
       "      <td>Beviljad</td>\n",
       "      <td>14</td>\n",
       "    </tr>\n",
       "    <tr>\n",
       "      <th>3</th>\n",
       "      <td>Medieinstitutet i Sverige AB</td>\n",
       "      <td>Beviljad</td>\n",
       "      <td>19</td>\n",
       "    </tr>\n",
       "    <tr>\n",
       "      <th>4</th>\n",
       "      <td>Grit Academy</td>\n",
       "      <td>Beviljad</td>\n",
       "      <td>1</td>\n",
       "    </tr>\n",
       "    <tr>\n",
       "      <th>5</th>\n",
       "      <td>Amsac AB</td>\n",
       "      <td>Beviljad</td>\n",
       "      <td>6</td>\n",
       "    </tr>\n",
       "    <tr>\n",
       "      <th>6</th>\n",
       "      <td>Nackademin AB</td>\n",
       "      <td>Beviljad</td>\n",
       "      <td>18</td>\n",
       "    </tr>\n",
       "    <tr>\n",
       "      <th>7</th>\n",
       "      <td>TUC Sweden AB - Yrkeshögskola</td>\n",
       "      <td>Beviljad</td>\n",
       "      <td>10</td>\n",
       "    </tr>\n",
       "    <tr>\n",
       "      <th>8</th>\n",
       "      <td>KYH AB</td>\n",
       "      <td>Beviljad</td>\n",
       "      <td>9</td>\n",
       "    </tr>\n",
       "    <tr>\n",
       "      <th>9</th>\n",
       "      <td>Stockholms stad, Frans Schartaus Handelsinstitut</td>\n",
       "      <td>Beviljad</td>\n",
       "      <td>6</td>\n",
       "    </tr>\n",
       "    <tr>\n",
       "      <th>10</th>\n",
       "      <td>YH Akademin AB</td>\n",
       "      <td>Avslag</td>\n",
       "      <td>10</td>\n",
       "    </tr>\n",
       "    <tr>\n",
       "      <th>11</th>\n",
       "      <td>IHM Business School AB Göteborg</td>\n",
       "      <td>Avslag</td>\n",
       "      <td>3</td>\n",
       "    </tr>\n",
       "    <tr>\n",
       "      <th>12</th>\n",
       "      <td>Göteborgs Stad, Yrgo</td>\n",
       "      <td>Avslag</td>\n",
       "      <td>10</td>\n",
       "    </tr>\n",
       "    <tr>\n",
       "      <th>13</th>\n",
       "      <td>Medieinstitutet i Sverige AB</td>\n",
       "      <td>Avslag</td>\n",
       "      <td>4</td>\n",
       "    </tr>\n",
       "    <tr>\n",
       "      <th>14</th>\n",
       "      <td>Grit Academy</td>\n",
       "      <td>Avslag</td>\n",
       "      <td>18</td>\n",
       "    </tr>\n",
       "    <tr>\n",
       "      <th>15</th>\n",
       "      <td>Amsac AB</td>\n",
       "      <td>Avslag</td>\n",
       "      <td>13</td>\n",
       "    </tr>\n",
       "    <tr>\n",
       "      <th>16</th>\n",
       "      <td>Nackademin AB</td>\n",
       "      <td>Avslag</td>\n",
       "      <td>0</td>\n",
       "    </tr>\n",
       "    <tr>\n",
       "      <th>17</th>\n",
       "      <td>TUC Sweden AB - Yrkeshögskola</td>\n",
       "      <td>Avslag</td>\n",
       "      <td>8</td>\n",
       "    </tr>\n",
       "    <tr>\n",
       "      <th>18</th>\n",
       "      <td>KYH AB</td>\n",
       "      <td>Avslag</td>\n",
       "      <td>7</td>\n",
       "    </tr>\n",
       "    <tr>\n",
       "      <th>19</th>\n",
       "      <td>Stockholms stad, Frans Schartaus Handelsinstitut</td>\n",
       "      <td>Avslag</td>\n",
       "      <td>10</td>\n",
       "    </tr>\n",
       "  </tbody>\n",
       "</table>\n",
       "</div>"
      ],
      "text/plain": [
       "                                           Anordnare    Beslut  \\\n",
       "0                                     YH Akademin AB  Beviljad   \n",
       "1                    IHM Business School AB Göteborg  Beviljad   \n",
       "2                               Göteborgs Stad, Yrgo  Beviljad   \n",
       "3                       Medieinstitutet i Sverige AB  Beviljad   \n",
       "4                                       Grit Academy  Beviljad   \n",
       "5                                           Amsac AB  Beviljad   \n",
       "6                                      Nackademin AB  Beviljad   \n",
       "7                      TUC Sweden AB - Yrkeshögskola  Beviljad   \n",
       "8                                             KYH AB  Beviljad   \n",
       "9   Stockholms stad, Frans Schartaus Handelsinstitut  Beviljad   \n",
       "10                                    YH Akademin AB    Avslag   \n",
       "11                   IHM Business School AB Göteborg    Avslag   \n",
       "12                              Göteborgs Stad, Yrgo    Avslag   \n",
       "13                      Medieinstitutet i Sverige AB    Avslag   \n",
       "14                                      Grit Academy    Avslag   \n",
       "15                                          Amsac AB    Avslag   \n",
       "16                                     Nackademin AB    Avslag   \n",
       "17                     TUC Sweden AB - Yrkeshögskola    Avslag   \n",
       "18                                            KYH AB    Avslag   \n",
       "19  Stockholms stad, Frans Schartaus Handelsinstitut    Avslag   \n",
       "\n",
       "    Totala ansökningar  \n",
       "0                   35  \n",
       "1                   27  \n",
       "2                   14  \n",
       "3                   19  \n",
       "4                    1  \n",
       "5                    6  \n",
       "6                   18  \n",
       "7                   10  \n",
       "8                    9  \n",
       "9                    6  \n",
       "10                  10  \n",
       "11                   3  \n",
       "12                  10  \n",
       "13                   4  \n",
       "14                  18  \n",
       "15                  13  \n",
       "16                   0  \n",
       "17                   8  \n",
       "18                   7  \n",
       "19                  10  "
      ]
     },
     "execution_count": 161,
     "metadata": {},
     "output_type": "execute_result"
    }
   ],
   "source": [
    "melted_bars = top10_schools.melt(\n",
    "    id_vars=\"Anordnare\",\n",
    "    value_vars=[\"Beviljad\", \"Avslag\"],\n",
    "    var_name=\"Beslut\",\n",
    "    value_name=\"Totala ansökningar\"\n",
    ")\n",
    "\n",
    "melted_bars"
   ]
  },
  {
   "cell_type": "code",
   "execution_count": 162,
   "id": "05aa489f",
   "metadata": {},
   "outputs": [
    {
     "data": {
      "application/vnd.plotly.v1+json": {
       "config": {
        "plotlyServerURL": "https://plot.ly"
       },
       "data": [
        {
         "customdata": [
          [
           35,
           "YH Akademin AB"
          ],
          [
           27,
           "IHM Business School AB Göteborg"
          ],
          [
           14,
           "Göteborgs Stad, Yrgo"
          ],
          [
           19,
           "Medieinstitutet i Sverige AB"
          ],
          [
           1,
           "Grit Academy"
          ],
          [
           6,
           "Amsac AB"
          ],
          [
           18,
           "Nackademin AB"
          ],
          [
           10,
           "TUC Sweden AB - Yrkeshögskola"
          ],
          [
           9,
           "KYH AB"
          ],
          [
           6,
           "Stockholms stad, Frans Schartaus Handelsinstitut"
          ]
         ],
         "hovertemplate": "<b>%{customdata[1]}</b><br>Totala ansökningar: %{customdata[0]}<extra></extra>",
         "legendgroup": "Beviljad",
         "marker": {
          "color": "#2E8B57",
          "pattern": {
           "shape": ""
          }
         },
         "name": "Beviljad",
         "orientation": "h",
         "showlegend": true,
         "textposition": "auto",
         "type": "bar",
         "x": {
          "bdata": "IxsOEwEGEgoJBg==",
          "dtype": "i1"
         },
         "xaxis": "x",
         "y": [
          "YH Akademin AB",
          "IHM Business School AB Göteborg",
          "Göteborgs Stad, Yrgo",
          "Medieinstitutet i Sverige AB",
          "Grit Academy",
          "Amsac AB",
          "Nackademin AB",
          "TUC Sweden AB - Yrkeshögskola",
          "KYH AB",
          "Stockholms stad, Frans Schartaus Handelsinstitut"
         ],
         "yaxis": "y"
        },
        {
         "customdata": [
          [
           10,
           "YH Akademin AB"
          ],
          [
           3,
           "IHM Business School AB Göteborg"
          ],
          [
           10,
           "Göteborgs Stad, Yrgo"
          ],
          [
           4,
           "Medieinstitutet i Sverige AB"
          ],
          [
           18,
           "Grit Academy"
          ],
          [
           13,
           "Amsac AB"
          ],
          [
           0,
           "Nackademin AB"
          ],
          [
           8,
           "TUC Sweden AB - Yrkeshögskola"
          ],
          [
           7,
           "KYH AB"
          ],
          [
           10,
           "Stockholms stad, Frans Schartaus Handelsinstitut"
          ]
         ],
         "hovertemplate": "<b>%{customdata[1]}</b><br>Totala ansökningar: %{customdata[0]}<extra></extra>",
         "legendgroup": "Avslag",
         "marker": {
          "color": "#FA8072",
          "pattern": {
           "shape": ""
          }
         },
         "name": "Avslag",
         "orientation": "h",
         "showlegend": true,
         "textposition": "auto",
         "type": "bar",
         "x": {
          "bdata": "CgMKBBINAAgHCg==",
          "dtype": "i1"
         },
         "xaxis": "x",
         "y": [
          "YH Akademin AB",
          "IHM Business School AB Göteborg",
          "Göteborgs Stad, Yrgo",
          "Medieinstitutet i Sverige AB",
          "Grit Academy",
          "Amsac AB",
          "Nackademin AB",
          "TUC Sweden AB - Yrkeshögskola",
          "KYH AB",
          "Stockholms stad, Frans Schartaus Handelsinstitut"
         ],
         "yaxis": "y"
        }
       ],
       "layout": {
        "barmode": "relative",
        "height": 500,
        "legend": {
         "title": {},
         "tracegroupgap": 0
        },
        "margin": {
         "t": 100
        },
        "template": {
         "data": {
          "bar": [
           {
            "error_x": {
             "color": "#2a3f5f"
            },
            "error_y": {
             "color": "#2a3f5f"
            },
            "marker": {
             "line": {
              "color": "#E5ECF6",
              "width": 0.5
             },
             "pattern": {
              "fillmode": "overlay",
              "size": 10,
              "solidity": 0.2
             }
            },
            "type": "bar"
           }
          ],
          "barpolar": [
           {
            "marker": {
             "line": {
              "color": "#E5ECF6",
              "width": 0.5
             },
             "pattern": {
              "fillmode": "overlay",
              "size": 10,
              "solidity": 0.2
             }
            },
            "type": "barpolar"
           }
          ],
          "carpet": [
           {
            "aaxis": {
             "endlinecolor": "#2a3f5f",
             "gridcolor": "white",
             "linecolor": "white",
             "minorgridcolor": "white",
             "startlinecolor": "#2a3f5f"
            },
            "baxis": {
             "endlinecolor": "#2a3f5f",
             "gridcolor": "white",
             "linecolor": "white",
             "minorgridcolor": "white",
             "startlinecolor": "#2a3f5f"
            },
            "type": "carpet"
           }
          ],
          "choropleth": [
           {
            "colorbar": {
             "outlinewidth": 0,
             "ticks": ""
            },
            "type": "choropleth"
           }
          ],
          "contour": [
           {
            "colorbar": {
             "outlinewidth": 0,
             "ticks": ""
            },
            "colorscale": [
             [
              0,
              "#0d0887"
             ],
             [
              0.1111111111111111,
              "#46039f"
             ],
             [
              0.2222222222222222,
              "#7201a8"
             ],
             [
              0.3333333333333333,
              "#9c179e"
             ],
             [
              0.4444444444444444,
              "#bd3786"
             ],
             [
              0.5555555555555556,
              "#d8576b"
             ],
             [
              0.6666666666666666,
              "#ed7953"
             ],
             [
              0.7777777777777778,
              "#fb9f3a"
             ],
             [
              0.8888888888888888,
              "#fdca26"
             ],
             [
              1,
              "#f0f921"
             ]
            ],
            "type": "contour"
           }
          ],
          "contourcarpet": [
           {
            "colorbar": {
             "outlinewidth": 0,
             "ticks": ""
            },
            "type": "contourcarpet"
           }
          ],
          "heatmap": [
           {
            "colorbar": {
             "outlinewidth": 0,
             "ticks": ""
            },
            "colorscale": [
             [
              0,
              "#0d0887"
             ],
             [
              0.1111111111111111,
              "#46039f"
             ],
             [
              0.2222222222222222,
              "#7201a8"
             ],
             [
              0.3333333333333333,
              "#9c179e"
             ],
             [
              0.4444444444444444,
              "#bd3786"
             ],
             [
              0.5555555555555556,
              "#d8576b"
             ],
             [
              0.6666666666666666,
              "#ed7953"
             ],
             [
              0.7777777777777778,
              "#fb9f3a"
             ],
             [
              0.8888888888888888,
              "#fdca26"
             ],
             [
              1,
              "#f0f921"
             ]
            ],
            "type": "heatmap"
           }
          ],
          "histogram": [
           {
            "marker": {
             "pattern": {
              "fillmode": "overlay",
              "size": 10,
              "solidity": 0.2
             }
            },
            "type": "histogram"
           }
          ],
          "histogram2d": [
           {
            "colorbar": {
             "outlinewidth": 0,
             "ticks": ""
            },
            "colorscale": [
             [
              0,
              "#0d0887"
             ],
             [
              0.1111111111111111,
              "#46039f"
             ],
             [
              0.2222222222222222,
              "#7201a8"
             ],
             [
              0.3333333333333333,
              "#9c179e"
             ],
             [
              0.4444444444444444,
              "#bd3786"
             ],
             [
              0.5555555555555556,
              "#d8576b"
             ],
             [
              0.6666666666666666,
              "#ed7953"
             ],
             [
              0.7777777777777778,
              "#fb9f3a"
             ],
             [
              0.8888888888888888,
              "#fdca26"
             ],
             [
              1,
              "#f0f921"
             ]
            ],
            "type": "histogram2d"
           }
          ],
          "histogram2dcontour": [
           {
            "colorbar": {
             "outlinewidth": 0,
             "ticks": ""
            },
            "colorscale": [
             [
              0,
              "#0d0887"
             ],
             [
              0.1111111111111111,
              "#46039f"
             ],
             [
              0.2222222222222222,
              "#7201a8"
             ],
             [
              0.3333333333333333,
              "#9c179e"
             ],
             [
              0.4444444444444444,
              "#bd3786"
             ],
             [
              0.5555555555555556,
              "#d8576b"
             ],
             [
              0.6666666666666666,
              "#ed7953"
             ],
             [
              0.7777777777777778,
              "#fb9f3a"
             ],
             [
              0.8888888888888888,
              "#fdca26"
             ],
             [
              1,
              "#f0f921"
             ]
            ],
            "type": "histogram2dcontour"
           }
          ],
          "mesh3d": [
           {
            "colorbar": {
             "outlinewidth": 0,
             "ticks": ""
            },
            "type": "mesh3d"
           }
          ],
          "parcoords": [
           {
            "line": {
             "colorbar": {
              "outlinewidth": 0,
              "ticks": ""
             }
            },
            "type": "parcoords"
           }
          ],
          "pie": [
           {
            "automargin": true,
            "type": "pie"
           }
          ],
          "scatter": [
           {
            "fillpattern": {
             "fillmode": "overlay",
             "size": 10,
             "solidity": 0.2
            },
            "type": "scatter"
           }
          ],
          "scatter3d": [
           {
            "line": {
             "colorbar": {
              "outlinewidth": 0,
              "ticks": ""
             }
            },
            "marker": {
             "colorbar": {
              "outlinewidth": 0,
              "ticks": ""
             }
            },
            "type": "scatter3d"
           }
          ],
          "scattercarpet": [
           {
            "marker": {
             "colorbar": {
              "outlinewidth": 0,
              "ticks": ""
             }
            },
            "type": "scattercarpet"
           }
          ],
          "scattergeo": [
           {
            "marker": {
             "colorbar": {
              "outlinewidth": 0,
              "ticks": ""
             }
            },
            "type": "scattergeo"
           }
          ],
          "scattergl": [
           {
            "marker": {
             "colorbar": {
              "outlinewidth": 0,
              "ticks": ""
             }
            },
            "type": "scattergl"
           }
          ],
          "scattermap": [
           {
            "marker": {
             "colorbar": {
              "outlinewidth": 0,
              "ticks": ""
             }
            },
            "type": "scattermap"
           }
          ],
          "scattermapbox": [
           {
            "marker": {
             "colorbar": {
              "outlinewidth": 0,
              "ticks": ""
             }
            },
            "type": "scattermapbox"
           }
          ],
          "scatterpolar": [
           {
            "marker": {
             "colorbar": {
              "outlinewidth": 0,
              "ticks": ""
             }
            },
            "type": "scatterpolar"
           }
          ],
          "scatterpolargl": [
           {
            "marker": {
             "colorbar": {
              "outlinewidth": 0,
              "ticks": ""
             }
            },
            "type": "scatterpolargl"
           }
          ],
          "scatterternary": [
           {
            "marker": {
             "colorbar": {
              "outlinewidth": 0,
              "ticks": ""
             }
            },
            "type": "scatterternary"
           }
          ],
          "surface": [
           {
            "colorbar": {
             "outlinewidth": 0,
             "ticks": ""
            },
            "colorscale": [
             [
              0,
              "#0d0887"
             ],
             [
              0.1111111111111111,
              "#46039f"
             ],
             [
              0.2222222222222222,
              "#7201a8"
             ],
             [
              0.3333333333333333,
              "#9c179e"
             ],
             [
              0.4444444444444444,
              "#bd3786"
             ],
             [
              0.5555555555555556,
              "#d8576b"
             ],
             [
              0.6666666666666666,
              "#ed7953"
             ],
             [
              0.7777777777777778,
              "#fb9f3a"
             ],
             [
              0.8888888888888888,
              "#fdca26"
             ],
             [
              1,
              "#f0f921"
             ]
            ],
            "type": "surface"
           }
          ],
          "table": [
           {
            "cells": {
             "fill": {
              "color": "#EBF0F8"
             },
             "line": {
              "color": "white"
             }
            },
            "header": {
             "fill": {
              "color": "#C8D4E3"
             },
             "line": {
              "color": "white"
             }
            },
            "type": "table"
           }
          ]
         },
         "layout": {
          "annotationdefaults": {
           "arrowcolor": "#2a3f5f",
           "arrowhead": 0,
           "arrowwidth": 1
          },
          "autotypenumbers": "strict",
          "coloraxis": {
           "colorbar": {
            "outlinewidth": 0,
            "ticks": ""
           }
          },
          "colorscale": {
           "diverging": [
            [
             0,
             "#8e0152"
            ],
            [
             0.1,
             "#c51b7d"
            ],
            [
             0.2,
             "#de77ae"
            ],
            [
             0.3,
             "#f1b6da"
            ],
            [
             0.4,
             "#fde0ef"
            ],
            [
             0.5,
             "#f7f7f7"
            ],
            [
             0.6,
             "#e6f5d0"
            ],
            [
             0.7,
             "#b8e186"
            ],
            [
             0.8,
             "#7fbc41"
            ],
            [
             0.9,
             "#4d9221"
            ],
            [
             1,
             "#276419"
            ]
           ],
           "sequential": [
            [
             0,
             "#0d0887"
            ],
            [
             0.1111111111111111,
             "#46039f"
            ],
            [
             0.2222222222222222,
             "#7201a8"
            ],
            [
             0.3333333333333333,
             "#9c179e"
            ],
            [
             0.4444444444444444,
             "#bd3786"
            ],
            [
             0.5555555555555556,
             "#d8576b"
            ],
            [
             0.6666666666666666,
             "#ed7953"
            ],
            [
             0.7777777777777778,
             "#fb9f3a"
            ],
            [
             0.8888888888888888,
             "#fdca26"
            ],
            [
             1,
             "#f0f921"
            ]
           ],
           "sequentialminus": [
            [
             0,
             "#0d0887"
            ],
            [
             0.1111111111111111,
             "#46039f"
            ],
            [
             0.2222222222222222,
             "#7201a8"
            ],
            [
             0.3333333333333333,
             "#9c179e"
            ],
            [
             0.4444444444444444,
             "#bd3786"
            ],
            [
             0.5555555555555556,
             "#d8576b"
            ],
            [
             0.6666666666666666,
             "#ed7953"
            ],
            [
             0.7777777777777778,
             "#fb9f3a"
            ],
            [
             0.8888888888888888,
             "#fdca26"
            ],
            [
             1,
             "#f0f921"
            ]
           ]
          },
          "colorway": [
           "#636efa",
           "#EF553B",
           "#00cc96",
           "#ab63fa",
           "#FFA15A",
           "#19d3f3",
           "#FF6692",
           "#B6E880",
           "#FF97FF",
           "#FECB52"
          ],
          "font": {
           "color": "#2a3f5f"
          },
          "geo": {
           "bgcolor": "white",
           "lakecolor": "white",
           "landcolor": "#E5ECF6",
           "showlakes": true,
           "showland": true,
           "subunitcolor": "white"
          },
          "hoverlabel": {
           "align": "left"
          },
          "hovermode": "closest",
          "mapbox": {
           "style": "light"
          },
          "paper_bgcolor": "white",
          "plot_bgcolor": "#E5ECF6",
          "polar": {
           "angularaxis": {
            "gridcolor": "white",
            "linecolor": "white",
            "ticks": ""
           },
           "bgcolor": "#E5ECF6",
           "radialaxis": {
            "gridcolor": "white",
            "linecolor": "white",
            "ticks": ""
           }
          },
          "scene": {
           "xaxis": {
            "backgroundcolor": "#E5ECF6",
            "gridcolor": "white",
            "gridwidth": 2,
            "linecolor": "white",
            "showbackground": true,
            "ticks": "",
            "zerolinecolor": "white"
           },
           "yaxis": {
            "backgroundcolor": "#E5ECF6",
            "gridcolor": "white",
            "gridwidth": 2,
            "linecolor": "white",
            "showbackground": true,
            "ticks": "",
            "zerolinecolor": "white"
           },
           "zaxis": {
            "backgroundcolor": "#E5ECF6",
            "gridcolor": "white",
            "gridwidth": 2,
            "linecolor": "white",
            "showbackground": true,
            "ticks": "",
            "zerolinecolor": "white"
           }
          },
          "shapedefaults": {
           "line": {
            "color": "#2a3f5f"
           }
          },
          "ternary": {
           "aaxis": {
            "gridcolor": "white",
            "linecolor": "white",
            "ticks": ""
           },
           "baxis": {
            "gridcolor": "white",
            "linecolor": "white",
            "ticks": ""
           },
           "bgcolor": "#E5ECF6",
           "caxis": {
            "gridcolor": "white",
            "linecolor": "white",
            "ticks": ""
           }
          },
          "title": {
           "x": 0.05
          },
          "xaxis": {
           "automargin": true,
           "gridcolor": "white",
           "linecolor": "white",
           "ticks": "",
           "title": {
            "standoff": 15
           },
           "zerolinecolor": "white",
           "zerolinewidth": 2
          },
          "yaxis": {
           "automargin": true,
           "gridcolor": "white",
           "linecolor": "white",
           "ticks": "",
           "title": {
            "standoff": 15
           },
           "zerolinecolor": "white",
           "zerolinewidth": 2
          }
         }
        },
        "title": {
         "font": {
          "color": "Black",
          "family": "Arial",
          "size": 22
         },
         "text": "Bland de 10 anordnarna med flest ansökningar år 2024 är vissa betydligt<br>bättre på att få sina ansökningar beviljade än andra"
        },
        "width": 900,
        "xaxis": {
         "anchor": "y",
         "domain": [
          0,
          1
         ],
         "tickfont": {
          "color": "Gray",
          "family": "Arial",
          "size": 14
         },
         "title": {}
        },
        "yaxis": {
         "anchor": "x",
         "autorange": "reversed",
         "domain": [
          0,
          1
         ],
         "tickfont": {
          "color": "Gray",
          "family": "Arial",
          "size": 14
         },
         "title": {}
        }
       }
      }
     },
     "metadata": {},
     "output_type": "display_data"
    }
   ],
   "source": [
    "# visual bar using plotly.express\n",
    "import plotly.express as px\n",
    "from colors.color_codes import SEA_GREEN, SALMON_RED\n",
    "\n",
    "# create graph\n",
    "figure = px.bar(\n",
    "    melted_bars,\n",
    "    x=\"Totala ansökningar\",\n",
    "    y=\"Anordnare\",\n",
    "    orientation=\"h\",\n",
    "    custom_data=[\"Totala ansökningar\", \"Anordnare\"],\n",
    "    # title=\"Bland de 10 anordnarna med flest ansökningar är vissa betydligt bättre på att få sina ansökningar beviljade\",\n",
    "    width=900,\n",
    "    height=500,\n",
    "    color=\"Beslut\",\n",
    "    color_discrete_map={\"Beviljad\": SEA_GREEN, \"Avslag\": SALMON_RED},\n",
    ")\n",
    "\n",
    "# reverse the bars, remove unneccesary things and fix font\n",
    "\n",
    "figure.update_layout(\n",
    "    title=dict(\n",
    "        text=\"Bland de 10 anordnarna med flest ansökningar år 2024 är vissa betydligt<br>bättre på att få sina ansökningar beviljade än andra\",\n",
    "        font=dict(size=22, family=\"Arial\", color=\"Black\"),\n",
    "    ),\n",
    "    margin=dict(t=100),  # place between title and bars\n",
    "    xaxis=dict(\n",
    "        tickfont=dict(family=\"Arial\", size=14, color=\"Gray\")\n",
    "    ),\n",
    "    yaxis=dict(\n",
    "        autorange=\"reversed\",\n",
    "        tickfont=dict(family=\"Arial\", size=14, color=\"Gray\")\n",
    "    ),\n",
    "    legend_title_text=None,\n",
    "    xaxis_title=None,\n",
    "    yaxis_title=None\n",
    ")\n",
    "\n",
    "# update the hover for cleaner visualization\n",
    "figure.update_traces(\n",
    "    hovertemplate=\"<b>%{customdata[1]}</b><br>Totala ansökningar: %{customdata[0]}<extra></extra>\"\n",
    ")\n",
    "\n",
    "figure.show()"
   ]
  }
 ],
 "metadata": {
  "kernelspec": {
   "display_name": ".venv",
   "language": "python",
   "name": "python3"
  },
  "language_info": {
   "codemirror_mode": {
    "name": "ipython",
    "version": 3
   },
   "file_extension": ".py",
   "mimetype": "text/x-python",
   "name": "python",
   "nbconvert_exporter": "python",
   "pygments_lexer": "ipython3",
   "version": "3.12.6"
  }
 },
 "nbformat": 4,
 "nbformat_minor": 5
}
